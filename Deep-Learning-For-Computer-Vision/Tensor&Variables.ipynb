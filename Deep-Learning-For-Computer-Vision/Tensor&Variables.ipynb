{
  "nbformat": 4,
  "nbformat_minor": 0,
  "metadata": {
    "colab": {
      "provenance": [],
      "include_colab_link": true
    },
    "kernelspec": {
      "name": "python3",
      "display_name": "Python 3"
    },
    "language_info": {
      "name": "python"
    }
  },
  "cells": [
    {
      "cell_type": "markdown",
      "metadata": {
        "id": "view-in-github",
        "colab_type": "text"
      },
      "source": [
        "<a href=\"https://colab.research.google.com/github/Naman09746/Learning/blob/main/Deep-Learning-For-Computer-Vision/Tensor%26Variables.ipynb\" target=\"_parent\"><img src=\"https://colab.research.google.com/assets/colab-badge.svg\" alt=\"Open In Colab\"/></a>"
      ]
    },
    {
      "cell_type": "code",
      "execution_count": 1,
      "metadata": {
        "id": "HO7NLp1WVjMP"
      },
      "outputs": [],
      "source": [
        "import tensorflow as tf"
      ]
    },
    {
      "cell_type": "code",
      "source": [
        "tensor_zero_d=tf.constant(10)\n",
        "print(tensor_zero_d)"
      ],
      "metadata": {
        "colab": {
          "base_uri": "https://localhost:8080/"
        },
        "id": "p4HK1ETzVrBn",
        "outputId": "76694188-9d92-4bf0-ddfd-b3a0a9ae65cc"
      },
      "execution_count": null,
      "outputs": [
        {
          "output_type": "stream",
          "name": "stdout",
          "text": [
            "tf.Tensor(10, shape=(), dtype=int32)\n"
          ]
        }
      ]
    },
    {
      "cell_type": "code",
      "source": [
        "tensor_one_d=tf.constant([1,2,3,4])#dtype int\n",
        "print(tensor_one_d)"
      ],
      "metadata": {
        "colab": {
          "base_uri": "https://localhost:8080/"
        },
        "id": "iyfFLmPjV_uI",
        "outputId": "02eb8c22-0b54-44b0-94af-7e605fe1b9a3"
      },
      "execution_count": null,
      "outputs": [
        {
          "output_type": "stream",
          "name": "stdout",
          "text": [
            "tf.Tensor([1 2 3 4], shape=(4,), dtype=int32)\n"
          ]
        }
      ]
    },
    {
      "cell_type": "code",
      "source": [
        "# tensor_one_d=tf.constant([1,2,3,4.])#dtype float32\n",
        "# print(tensor_one_d)\n",
        "tensor_one_d_f=tf.constant([1,2,3,4],dtype=tf.float32)#dtype float32\n",
        "print(tensor_one_d)"
      ],
      "metadata": {
        "colab": {
          "base_uri": "https://localhost:8080/"
        },
        "id": "Inqwv_NmWH6k",
        "outputId": "c149531a-9260-4c01-def2-7893242743b1"
      },
      "execution_count": null,
      "outputs": [
        {
          "output_type": "stream",
          "name": "stdout",
          "text": [
            "tf.Tensor([1 2 3 4], shape=(4,), dtype=int32)\n"
          ]
        }
      ]
    },
    {
      "cell_type": "code",
      "source": [
        "#CASTING\n",
        "casted_tensor_one_d= tf.cast(tensor_one_d_f,dtype=tf.int32)\n",
        "print(casted_tensor_one_d)"
      ],
      "metadata": {
        "colab": {
          "base_uri": "https://localhost:8080/"
        },
        "id": "qDbuGQ3qai1a",
        "outputId": "e8767023-a35a-49af-8c26-a7fe630534ab"
      },
      "execution_count": null,
      "outputs": [
        {
          "output_type": "stream",
          "name": "stdout",
          "text": [
            "tf.Tensor([1 2 3 4], shape=(4,), dtype=int32)\n"
          ]
        }
      ]
    },
    {
      "cell_type": "code",
      "source": [
        "tensor_two_d=tf.constant([\n",
        "     [1,2,3],\n",
        "     [4,5,6]\n",
        "    ])\n",
        "print(tensor_two_d)"
      ],
      "metadata": {
        "colab": {
          "base_uri": "https://localhost:8080/"
        },
        "id": "jwl7l2-ZWTxY",
        "outputId": "2b49e6e9-5999-4df6-c279-28c53e6027c6"
      },
      "execution_count": 10,
      "outputs": [
        {
          "output_type": "stream",
          "name": "stdout",
          "text": [
            "tf.Tensor(\n",
            "[[1 2 3]\n",
            " [4 5 6]], shape=(2, 3), dtype=int32)\n"
          ]
        }
      ]
    },
    {
      "cell_type": "code",
      "source": [
        "tensor_three_d=tf.constant([\n",
        "    [\n",
        "        [1,2,3],\n",
        "        [5,6,7]\n",
        "    ],\n",
        "    [\n",
        "        [0,9,8],\n",
        "        [7,6,5]\n",
        "    ]\n",
        "])\n",
        "print(tensor_three_d)"
      ],
      "metadata": {
        "colab": {
          "base_uri": "https://localhost:8080/"
        },
        "id": "zljnfhguW9l9",
        "outputId": "cb0f470b-ba7a-44ae-db6f-3cab3eb5cbde"
      },
      "execution_count": null,
      "outputs": [
        {
          "output_type": "stream",
          "name": "stdout",
          "text": [
            "tf.Tensor(\n",
            "[[[1 2 3]\n",
            "  [5 6 7]]\n",
            "\n",
            " [[0 9 8]\n",
            "  [7 6 5]]], shape=(2, 2, 3), dtype=int32)\n"
          ]
        }
      ]
    },
    {
      "cell_type": "code",
      "source": [
        "tensor_four_d=tf.constant([\n",
        "    [\n",
        "        [\n",
        "            [1,2,3,4],\n",
        "            [5,6,7,8]\n",
        "        ],\n",
        "        [\n",
        "            [1,2,3,4],\n",
        "            [5,6,7,8]\n",
        "        ]\n",
        "    ]\n",
        "])\n",
        "print(tensor_four_d)"
      ],
      "metadata": {
        "colab": {
          "base_uri": "https://localhost:8080/"
        },
        "id": "BRtmXOJ1Xh7O",
        "outputId": "ea2623c9-9a2b-4d01-c48e-86359cc820b9"
      },
      "execution_count": null,
      "outputs": [
        {
          "output_type": "stream",
          "name": "stdout",
          "text": [
            "tf.Tensor(\n",
            "[[[[1 2 3 4]\n",
            "   [5 6 7 8]]\n",
            "\n",
            "  [[1 2 3 4]\n",
            "   [5 6 7 8]]]], shape=(1, 2, 2, 4), dtype=int32)\n"
          ]
        }
      ]
    },
    {
      "cell_type": "code",
      "source": [
        "import numpy as np"
      ],
      "metadata": {
        "id": "0Lbozfy3YnRz"
      },
      "execution_count": null,
      "outputs": []
    },
    {
      "cell_type": "code",
      "source": [
        "np_array= np.array([1,2,3])\n",
        "print(np_array)"
      ],
      "metadata": {
        "colab": {
          "base_uri": "https://localhost:8080/"
        },
        "id": "N_ILbPXibKx2",
        "outputId": "145cea64-e326-42e8-daeb-616cb86a2897"
      },
      "execution_count": null,
      "outputs": [
        {
          "output_type": "stream",
          "name": "stdout",
          "text": [
            "[1 2 3]\n"
          ]
        }
      ]
    },
    {
      "cell_type": "code",
      "source": [
        "converted_tensor=tf.convert_to_tensor(np_array)\n",
        "print(converted_tensor)"
      ],
      "metadata": {
        "colab": {
          "base_uri": "https://localhost:8080/"
        },
        "id": "KuHNxpFMbO3Z",
        "outputId": "512dc109-3016-4283-bb9d-253f4f1cddb1"
      },
      "execution_count": null,
      "outputs": [
        {
          "output_type": "stream",
          "name": "stdout",
          "text": [
            "tf.Tensor([1 2 3], shape=(3,), dtype=int64)\n"
          ]
        }
      ]
    },
    {
      "cell_type": "code",
      "source": [
        "eye_tensor=tf.eye(\n",
        "    num_rows=3,\n",
        "    num_columns=3,\n",
        "    batch_shape=[2],\n",
        "    dtype=tf.dtypes.float32,\n",
        "    name=None\n",
        ")\n",
        "print(eye_tensor)"
      ],
      "metadata": {
        "colab": {
          "base_uri": "https://localhost:8080/"
        },
        "id": "NgmSqqTLbeLg",
        "outputId": "02c5f1b3-a869-4cbd-9b76-eefec6871689"
      },
      "execution_count": null,
      "outputs": [
        {
          "output_type": "stream",
          "name": "stdout",
          "text": [
            "tf.Tensor(\n",
            "[[[1. 0. 0.]\n",
            "  [0. 1. 0.]\n",
            "  [0. 0. 1.]]\n",
            "\n",
            " [[1. 0. 0.]\n",
            "  [0. 1. 0.]\n",
            "  [0. 0. 1.]]], shape=(2, 3, 3), dtype=float32)\n"
          ]
        }
      ]
    },
    {
      "cell_type": "code",
      "source": [
        "fill_tensor=tf.fill(\n",
        "    [2,3],\n",
        "    9\n",
        ")\n",
        "print(fill_tensor)"
      ],
      "metadata": {
        "colab": {
          "base_uri": "https://localhost:8080/"
        },
        "id": "oBHX8ag6cKSY",
        "outputId": "d0e6ce80-de1f-40de-c42c-4d399c58337b"
      },
      "execution_count": null,
      "outputs": [
        {
          "output_type": "stream",
          "name": "stdout",
          "text": [
            "tf.Tensor(\n",
            "[[9 9 9]\n",
            " [9 9 9]], shape=(2, 3), dtype=int32)\n"
          ]
        }
      ]
    },
    {
      "cell_type": "code",
      "source": [
        "ones_tensor=tf.ones(\n",
        "    [2,3],\n",
        "    dtype=tf.dtypes.float32,\n",
        "    name=None\n",
        ")\n",
        "print(ones_tensor)"
      ],
      "metadata": {
        "colab": {
          "base_uri": "https://localhost:8080/"
        },
        "id": "NogTLyKDMmK8",
        "outputId": "4265d5dc-a9c8-4d85-afbb-66dfe4d74efa"
      },
      "execution_count": null,
      "outputs": [
        {
          "output_type": "stream",
          "name": "stdout",
          "text": [
            "tf.Tensor(\n",
            "[[1. 1. 1.]\n",
            " [1. 1. 1.]], shape=(2, 3), dtype=float32)\n"
          ]
        }
      ]
    },
    {
      "cell_type": "code",
      "source": [
        "ones_like_tensor=tf.ones_like(\n",
        "    eye_tensor\n",
        ")\n",
        "print(ones_like_tensor)"
      ],
      "metadata": {
        "colab": {
          "base_uri": "https://localhost:8080/"
        },
        "id": "vZZdPKoZNbIw",
        "outputId": "5975bea5-f07e-4f45-8fa0-1a4cb3d582e0"
      },
      "execution_count": null,
      "outputs": [
        {
          "output_type": "stream",
          "name": "stdout",
          "text": [
            "tf.Tensor(\n",
            "[[[1. 1. 1.]\n",
            "  [1. 1. 1.]\n",
            "  [1. 1. 1.]]\n",
            "\n",
            " [[1. 1. 1.]\n",
            "  [1. 1. 1.]\n",
            "  [1. 1. 1.]]], shape=(2, 3, 3), dtype=float32)\n"
          ]
        }
      ]
    },
    {
      "cell_type": "code",
      "source": [
        "zeros_tensor=tf.zeros(\n",
        "    [2,3],\n",
        "    dtype=tf.dtypes.float32,\n",
        "    name=None\n",
        ")\n",
        "print(zeros_tensor)"
      ],
      "metadata": {
        "colab": {
          "base_uri": "https://localhost:8080/"
        },
        "id": "cmHHK-JjOcI3",
        "outputId": "81be8748-5aee-481c-cbe2-94b06f4ff598"
      },
      "execution_count": null,
      "outputs": [
        {
          "output_type": "stream",
          "name": "stdout",
          "text": [
            "tf.Tensor(\n",
            "[[0. 0. 0.]\n",
            " [0. 0. 0.]], shape=(2, 3), dtype=float32)\n"
          ]
        }
      ]
    },
    {
      "cell_type": "code",
      "source": [
        "zeros_like_tensor=tf.zeros_like(\n",
        "    eye_tensor\n",
        ")\n",
        "print(zeros_like_tensor)"
      ],
      "metadata": {
        "colab": {
          "base_uri": "https://localhost:8080/"
        },
        "id": "hzFWF1JmOrgp",
        "outputId": "6c37a32f-8818-4288-a026-d2f79f5db5d7"
      },
      "execution_count": null,
      "outputs": [
        {
          "output_type": "stream",
          "name": "stdout",
          "text": [
            "tf.Tensor(\n",
            "[[[0. 0. 0.]\n",
            "  [0. 0. 0.]\n",
            "  [0. 0. 0.]]\n",
            "\n",
            " [[0. 0. 0.]\n",
            "  [0. 0. 0.]\n",
            "  [0. 0. 0.]]], shape=(2, 3, 3), dtype=float32)\n"
          ]
        }
      ]
    },
    {
      "cell_type": "code",
      "source": [
        "print(tensor_three_d.shape)"
      ],
      "metadata": {
        "colab": {
          "base_uri": "https://localhost:8080/"
        },
        "id": "LR9yuhm1Owk3",
        "outputId": "ae19d7c5-4ded-487e-8055-0c7949cc82b1"
      },
      "execution_count": null,
      "outputs": [
        {
          "output_type": "stream",
          "name": "stdout",
          "text": [
            "(2, 2, 3)\n"
          ]
        }
      ]
    },
    {
      "cell_type": "code",
      "source": [
        "tf.rank(tensor_three_d)"
      ],
      "metadata": {
        "colab": {
          "base_uri": "https://localhost:8080/"
        },
        "id": "rm_2ZauzO3Kg",
        "outputId": "6ee5484d-dda7-4cab-b401-493f0418e771"
      },
      "execution_count": null,
      "outputs": [
        {
          "output_type": "execute_result",
          "data": {
            "text/plain": [
              "<tf.Tensor: shape=(), dtype=int32, numpy=3>"
            ]
          },
          "metadata": {},
          "execution_count": 20
        }
      ]
    },
    {
      "cell_type": "code",
      "source": [
        "tf.size(tensor_three_d)"
      ],
      "metadata": {
        "colab": {
          "base_uri": "https://localhost:8080/"
        },
        "id": "WIoLnSi0PE1N",
        "outputId": "c225be51-91a3-4dc7-a658-f79e4012105a"
      },
      "execution_count": null,
      "outputs": [
        {
          "output_type": "execute_result",
          "data": {
            "text/plain": [
              "<tf.Tensor: shape=(), dtype=int32, numpy=12>"
            ]
          },
          "metadata": {},
          "execution_count": 21
        }
      ]
    },
    {
      "cell_type": "code",
      "source": [
        "tf.size(tensor_three_d,out_type=tf.float32)"
      ],
      "metadata": {
        "colab": {
          "base_uri": "https://localhost:8080/"
        },
        "id": "8iIQY-tKPlPK",
        "outputId": "96b2cea5-7f97-427d-cc83-9cb0c5a5b674"
      },
      "execution_count": null,
      "outputs": [
        {
          "output_type": "execute_result",
          "data": {
            "text/plain": [
              "<tf.Tensor: shape=(), dtype=float32, numpy=12.0>"
            ]
          },
          "metadata": {},
          "execution_count": 22
        }
      ]
    },
    {
      "cell_type": "code",
      "source": [
        "random_tensor= tf.random.normal(\n",
        "    [3,2],\n",
        "    mean=100.0,\n",
        "    stddev=1.0,\n",
        "    dtype=tf.dtypes.float32,\n",
        "    seed=None,\n",
        "    name=None\n",
        ")\n",
        "print(random_tensor)"
      ],
      "metadata": {
        "colab": {
          "base_uri": "https://localhost:8080/"
        },
        "id": "1FQCa61vR-94",
        "outputId": "9180fb91-2c14-430e-907e-965ffb65f6f7"
      },
      "execution_count": null,
      "outputs": [
        {
          "output_type": "stream",
          "name": "stdout",
          "text": [
            "tf.Tensor(\n",
            "[[ 99.346275 100.7396  ]\n",
            " [100.05765  100.62559 ]\n",
            " [100.5143    99.63983 ]], shape=(3, 2), dtype=float32)\n"
          ]
        }
      ]
    },
    {
      "cell_type": "code",
      "source": [
        "uniform_tensor= tf.random.uniform(\n",
        "    [3,2],\n",
        "    minval=0,\n",
        "    maxval=None,\n",
        "    dtype=tf.dtypes.float32,\n",
        "    seed=None,\n",
        "    name=None\n",
        ")\n",
        "print(uniform_tensor)"
      ],
      "metadata": {
        "colab": {
          "base_uri": "https://localhost:8080/"
        },
        "id": "b1f53_r6SL3q",
        "outputId": "ba862c8d-c374-4864-c156-678c50c4c959"
      },
      "execution_count": null,
      "outputs": [
        {
          "output_type": "stream",
          "name": "stdout",
          "text": [
            "tf.Tensor(\n",
            "[[0.77173483 0.28625965]\n",
            " [0.40544045 0.11925483]\n",
            " [0.46497262 0.7783743 ]], shape=(3, 2), dtype=float32)\n"
          ]
        }
      ]
    },
    {
      "cell_type": "code",
      "source": [
        "tf.random.set_seed(5)\n",
        "print(tf.random.uniform([1],seed=1))\n",
        "print(tf.random.uniform([1],seed=1))\n",
        "print(tf.random.uniform([1],seed=1))"
      ],
      "metadata": {
        "colab": {
          "base_uri": "https://localhost:8080/"
        },
        "id": "-1sMKGrnTnJ3",
        "outputId": "11122de4-e723-4229-de97-fc2e48f6c588"
      },
      "execution_count": null,
      "outputs": [
        {
          "output_type": "stream",
          "name": "stdout",
          "text": [
            "tf.Tensor([0.3875184], shape=(1,), dtype=float32)\n",
            "tf.Tensor([0.98592305], shape=(1,), dtype=float32)\n",
            "tf.Tensor([0.9647], shape=(1,), dtype=float32)\n"
          ]
        }
      ]
    },
    {
      "cell_type": "code",
      "source": [
        "tensor_indexed= tf.constant([1,2,3,4,5,6,7])\n",
        "print(tensor_indexed)\n",
        "print(tensor_indexed[0:3])#min:max-1\n",
        "print(tensor_indexed[0:6:2])"
      ],
      "metadata": {
        "colab": {
          "base_uri": "https://localhost:8080/"
        },
        "id": "9YB45pY9T54j",
        "outputId": "a5ebf050-8872-477f-c1e8-d2d5faeb6b1f"
      },
      "execution_count": null,
      "outputs": [
        {
          "output_type": "stream",
          "name": "stdout",
          "text": [
            "tf.Tensor([1 2 3 4 5 6 7], shape=(7,), dtype=int32)\n",
            "tf.Tensor([1 2 3], shape=(3,), dtype=int32)\n",
            "tf.Tensor([1 3 5], shape=(3,), dtype=int32)\n"
          ]
        }
      ]
    },
    {
      "cell_type": "code",
      "source": [
        "tensor_2_d=tf.constant([\n",
        "    [1,2,3,4],\n",
        "    [5,6,7,8],\n",
        "    [9,10,11,12]\n",
        "])\n",
        "print(tensor_2_d)\n",
        "print(tensor_2_d[0:2,1:3])"
      ],
      "metadata": {
        "colab": {
          "base_uri": "https://localhost:8080/"
        },
        "id": "Ul4OcOwntYwD",
        "outputId": "7f8f40c3-bef5-4a98-cbbe-54163c40d7fb"
      },
      "execution_count": null,
      "outputs": [
        {
          "output_type": "stream",
          "name": "stdout",
          "text": [
            "tf.Tensor(\n",
            "[[ 1  2  3  4]\n",
            " [ 5  6  7  8]\n",
            " [ 9 10 11 12]], shape=(3, 4), dtype=int32)\n",
            "tf.Tensor(\n",
            "[[2 3]\n",
            " [6 7]], shape=(2, 2), dtype=int32)\n"
          ]
        }
      ]
    },
    {
      "cell_type": "code",
      "source": [
        "print(tensor_2_d[...,1:3])"
      ],
      "metadata": {
        "colab": {
          "base_uri": "https://localhost:8080/"
        },
        "id": "DWBDIbAIu4u1",
        "outputId": "8df509aa-5d78-4fe2-fee5-fe573caeff3e"
      },
      "execution_count": null,
      "outputs": [
        {
          "output_type": "stream",
          "name": "stdout",
          "text": [
            "tf.Tensor(\n",
            "[[ 2  3]\n",
            " [ 6  7]\n",
            " [10 11]], shape=(3, 2), dtype=int32)\n"
          ]
        }
      ]
    },
    {
      "cell_type": "code",
      "source": [
        "x_abs=tf.constant([-2,-1,0,1,2])\n",
        "print(tf.abs(x_abs))"
      ],
      "metadata": {
        "colab": {
          "base_uri": "https://localhost:8080/"
        },
        "id": "GEtEXrlru-lk",
        "outputId": "ddac55ea-7d0a-4cb9-bed0-de093e7e0375"
      },
      "execution_count": null,
      "outputs": [
        {
          "output_type": "stream",
          "name": "stdout",
          "text": [
            "tf.Tensor([2 1 0 1 2], shape=(5,), dtype=int32)\n"
          ]
        }
      ]
    },
    {
      "cell_type": "code",
      "source": [
        "tf.abs(tf.constant([-2,-1,0,1,2]))"
      ],
      "metadata": {
        "colab": {
          "base_uri": "https://localhost:8080/"
        },
        "id": "HafQrXy2vQGg",
        "outputId": "ed207bbb-69af-403d-e004-ff5e8e5e60f7"
      },
      "execution_count": null,
      "outputs": [
        {
          "output_type": "execute_result",
          "data": {
            "text/plain": [
              "<tf.Tensor: shape=(5,), dtype=int32, numpy=array([2, 1, 0, 1, 2], dtype=int32)>"
            ]
          },
          "metadata": {},
          "execution_count": 35
        }
      ]
    },
    {
      "cell_type": "code",
      "source": [
        "x_abs_complex=tf.constant([-2-4j,1+1j,-5+7j,0])\n",
        "print(tf.abs(x_abs_complex))"
      ],
      "metadata": {
        "colab": {
          "base_uri": "https://localhost:8080/"
        },
        "id": "HolU1YWEvVmv",
        "outputId": "892c396a-eaf5-4b4e-cd51-802a2ab6f059"
      },
      "execution_count": null,
      "outputs": [
        {
          "output_type": "stream",
          "name": "stdout",
          "text": [
            "tf.Tensor([4.47213595 1.41421356 8.60232527 0.        ], shape=(4,), dtype=float64)\n"
          ]
        }
      ]
    },
    {
      "cell_type": "code",
      "source": [
        "tf.sqrt(2.25**2+ 4.75**2)"
      ],
      "metadata": {
        "colab": {
          "base_uri": "https://localhost:8080/"
        },
        "id": "hvRvwIaJvsIo",
        "outputId": "bc07c579-df00-4dd2-d00e-be0eb9a80035"
      },
      "execution_count": null,
      "outputs": [
        {
          "output_type": "execute_result",
          "data": {
            "text/plain": [
              "<tf.Tensor: shape=(), dtype=float32, numpy=5.255949020385742>"
            ]
          },
          "metadata": {},
          "execution_count": 37
        }
      ]
    },
    {
      "cell_type": "code",
      "source": [
        "x_1=tf.constant([1,2,3,4])\n",
        "x_2=tf.constant([5,6,7,8])\n",
        "print(tf.add(x_1,x_2))\n",
        "print(tf.subtract(x_1,x_2))\n",
        "print(tf.multiply(x_1,x_2))\n",
        "print(tf.divide(x_1,x_2))"
      ],
      "metadata": {
        "colab": {
          "base_uri": "https://localhost:8080/"
        },
        "id": "Xx7k085lvyuh",
        "outputId": "2d9ad535-fd88-4402-d992-5e6b57ce0cbc"
      },
      "execution_count": null,
      "outputs": [
        {
          "output_type": "stream",
          "name": "stdout",
          "text": [
            "tf.Tensor([ 6  8 10 12], shape=(4,), dtype=int32)\n",
            "tf.Tensor([-4 -4 -4 -4], shape=(4,), dtype=int32)\n",
            "tf.Tensor([ 5 12 21 32], shape=(4,), dtype=int32)\n",
            "tf.Tensor([0.2        0.33333333 0.42857143 0.5       ], shape=(4,), dtype=float64)\n"
          ]
        }
      ]
    },
    {
      "cell_type": "code",
      "source": [
        "# x3=tf.constant([7],dtype=tf.float32)\n",
        "# print(tf.math.multiply(x_1,x3))\n",
        "x3=tf.constant([7],dtype=tf.int32) # Change the data type of x3 to int32 to match x_1\n",
        "print(tf.math.add(x_1,x3))"
      ],
      "metadata": {
        "colab": {
          "base_uri": "https://localhost:8080/"
        },
        "id": "Q5q08iqov2QT",
        "outputId": "b1acaa70-6331-4bdd-ce27-73d0b3cc9197"
      },
      "execution_count": null,
      "outputs": [
        {
          "output_type": "stream",
          "name": "stdout",
          "text": [
            "tf.Tensor([ 8  9 10 11], shape=(4,), dtype=int32)\n"
          ]
        }
      ]
    },
    {
      "cell_type": "code",
      "source": [
        "x_argmax=tf.constant(([2,23,42,41,4],\n",
        "                      [3,4,6,16,64],\n",
        "                      [13,54,44,34,4]))\n",
        "print(x_argmax)"
      ],
      "metadata": {
        "id": "mGEeGRKTHiWD",
        "colab": {
          "base_uri": "https://localhost:8080/"
        },
        "outputId": "2d8921f4-66dc-48a2-a7ce-58032704ee94"
      },
      "execution_count": 2,
      "outputs": [
        {
          "output_type": "stream",
          "name": "stdout",
          "text": [
            "tf.Tensor(\n",
            "[[ 2 23 42 41  4]\n",
            " [ 3  4  6 16 64]\n",
            " [13 54 44 34  4]], shape=(3, 5), dtype=int32)\n"
          ]
        }
      ]
    },
    {
      "cell_type": "code",
      "source": [
        "print(tf.math.argmax(x_argmax))"
      ],
      "metadata": {
        "colab": {
          "base_uri": "https://localhost:8080/"
        },
        "id": "oqCBOwhwiZff",
        "outputId": "23677723-4297-4131-cd62-8ff32c43c2a4"
      },
      "execution_count": 3,
      "outputs": [
        {
          "output_type": "stream",
          "name": "stdout",
          "text": [
            "tf.Tensor([2 2 2 0 1], shape=(5,), dtype=int64)\n"
          ]
        }
      ]
    },
    {
      "cell_type": "code",
      "source": [
        "x=tf.constant([[2,3],[3,4]])\n",
        "y=tf.constant([[3,4],[5,6]])\n",
        "tf.pow(x,y)"
      ],
      "metadata": {
        "colab": {
          "base_uri": "https://localhost:8080/"
        },
        "id": "ks2ibfQGjfMX",
        "outputId": "7c4b8d45-764e-4644-a336-10d3a43defed"
      },
      "execution_count": 4,
      "outputs": [
        {
          "output_type": "execute_result",
          "data": {
            "text/plain": [
              "<tf.Tensor: shape=(2, 2), dtype=int32, numpy=\n",
              "array([[   8,   81],\n",
              "       [ 243, 4096]], dtype=int32)>"
            ]
          },
          "metadata": {},
          "execution_count": 4
        }
      ]
    },
    {
      "cell_type": "code",
      "source": [
        "tf.pow(tf.constant(2),tf.constant(3))"
      ],
      "metadata": {
        "colab": {
          "base_uri": "https://localhost:8080/"
        },
        "id": "T4hoNtSWj_kE",
        "outputId": "c9a62a2c-f9ce-4311-e0a6-d200495c25cf"
      },
      "execution_count": 6,
      "outputs": [
        {
          "output_type": "execute_result",
          "data": {
            "text/plain": [
              "<tf.Tensor: shape=(), dtype=int32, numpy=8>"
            ]
          },
          "metadata": {},
          "execution_count": 6
        }
      ]
    },
    {
      "cell_type": "code",
      "source": [
        "tf.math.reduce_sum(\n",
        "    input_tensor=tensor_two_d,\n",
        "    axis=None,\n",
        "    keepdims=False,\n",
        "    name=None\n",
        ")"
      ],
      "metadata": {
        "colab": {
          "base_uri": "https://localhost:8080/"
        },
        "id": "eRcnNh4TkHa9",
        "outputId": "5ca68568-6d7f-4499-919d-4239b4ac6dd0"
      },
      "execution_count": 11,
      "outputs": [
        {
          "output_type": "execute_result",
          "data": {
            "text/plain": [
              "<tf.Tensor: shape=(), dtype=int32, numpy=21>"
            ]
          },
          "metadata": {},
          "execution_count": 11
        }
      ]
    },
    {
      "cell_type": "code",
      "source": [
        "tf.math.top_k(tensor_two_d,k=1)"
      ],
      "metadata": {
        "colab": {
          "base_uri": "https://localhost:8080/"
        },
        "id": "zqtNmi6zkW6l",
        "outputId": "8b4d5e68-f4a1-46d9-e1df-68074a42ac96"
      },
      "execution_count": 13,
      "outputs": [
        {
          "output_type": "execute_result",
          "data": {
            "text/plain": [
              "TopKV2(values=<tf.Tensor: shape=(2, 1), dtype=int32, numpy=\n",
              "array([[3],\n",
              "       [6]], dtype=int32)>, indices=<tf.Tensor: shape=(2, 1), dtype=int32, numpy=\n",
              "array([[2],\n",
              "       [2]], dtype=int32)>)"
            ]
          },
          "metadata": {},
          "execution_count": 13
        }
      ]
    },
    {
      "cell_type": "code",
      "source": [
        "x_1=tf.constant([[1,2,3],\n",
        "                [4,5,6]])\n",
        "x_2=tf.constant([[5,6,7,8],\n",
        "                 [1,3,5,6],\n",
        "                 [3,4,1,2]]) # Added a row to x_2 to make it compatible for matrix multiplication\n",
        "\n",
        "print(x_1.shape)\n",
        "print(x_2.shape)\n",
        "\n",
        "tf.linalg.matmul(\n",
        "    x_1,x_2,transpose_a=False,transpose_b=False,adjoint_a=False,adjoint_b=False,a_is_sparse=False,b_is_sparse=False,\n",
        "    output_type=None,\n",
        "    name=None\n",
        ")"
      ],
      "metadata": {
        "colab": {
          "base_uri": "https://localhost:8080/"
        },
        "id": "VYQ_8vlfkx64",
        "outputId": "92064b4e-2185-44d7-dca6-9d74aad842e3"
      },
      "execution_count": 26,
      "outputs": [
        {
          "output_type": "stream",
          "name": "stdout",
          "text": [
            "(2, 3)\n",
            "(3, 4)\n"
          ]
        },
        {
          "output_type": "execute_result",
          "data": {
            "text/plain": [
              "<tf.Tensor: shape=(2, 4), dtype=int32, numpy=\n",
              "array([[16, 24, 20, 26],\n",
              "       [43, 63, 59, 74]], dtype=int32)>"
            ]
          },
          "metadata": {},
          "execution_count": 26
        }
      ]
    },
    {
      "cell_type": "code",
      "source": [
        "tf.transpose(x_1)"
      ],
      "metadata": {
        "colab": {
          "base_uri": "https://localhost:8080/"
        },
        "id": "Sd7wgrSrlH2p",
        "outputId": "c29f6325-e405-4175-8aae-647a82ab64ca"
      },
      "execution_count": 27,
      "outputs": [
        {
          "output_type": "execute_result",
          "data": {
            "text/plain": [
              "<tf.Tensor: shape=(3, 2), dtype=int32, numpy=\n",
              "array([[1, 4],\n",
              "       [2, 5],\n",
              "       [3, 6]], dtype=int32)>"
            ]
          },
          "metadata": {},
          "execution_count": 27
        }
      ]
    },
    {
      "cell_type": "code",
      "source": [
        "tensor_two_d=tf.constant([\n",
        "    [1,2,3],\n",
        "    [4,5,6]\n",
        "    ])\n",
        "print(tensor_two_d)\n",
        "\n",
        "tensor_out_d=tf.constant([[1,0,0],\n",
        "                          [0,0,0]])\n",
        "print(tensor_out_d)\n",
        "\n",
        "tf.linalg.band_part(tensor_two_d,num_lower=0,num_upper=1)"
      ],
      "metadata": {
        "colab": {
          "base_uri": "https://localhost:8080/"
        },
        "id": "oxsM-pABlGeC",
        "outputId": "549cd44d-ddcf-4cdc-f10b-b3db07e9eb5d"
      },
      "execution_count": 30,
      "outputs": [
        {
          "output_type": "stream",
          "name": "stdout",
          "text": [
            "tf.Tensor(\n",
            "[[1 2 3]\n",
            " [4 5 6]], shape=(2, 3), dtype=int32)\n",
            "tf.Tensor(\n",
            "[[1 0 0]\n",
            " [0 0 0]], shape=(2, 3), dtype=int32)\n"
          ]
        },
        {
          "output_type": "execute_result",
          "data": {
            "text/plain": [
              "<tf.Tensor: shape=(2, 3), dtype=int32, numpy=\n",
              "array([[1, 2, 0],\n",
              "       [0, 5, 6]], dtype=int32)>"
            ]
          },
          "metadata": {},
          "execution_count": 30
        }
      ]
    },
    {
      "cell_type": "code",
      "source": [
        "tensor_two_d = tf.constant([\n",
        "    [1, 2],\n",
        "    [4, 5]\n",
        "], dtype=tf.float32)  # Changed the shape to (2, 2) to make it square\n",
        "print(tensor_two_d)\n",
        "\n",
        "tensor_two_d_inv=tf.linalg.inv(tensor_two_d)"
      ],
      "metadata": {
        "id": "VoeCX0ylotLI",
        "outputId": "47936750-d6be-4c5a-9031-f9d1238c649a",
        "colab": {
          "base_uri": "https://localhost:8080/"
        }
      },
      "execution_count": 35,
      "outputs": [
        {
          "output_type": "stream",
          "name": "stdout",
          "text": [
            "tf.Tensor(\n",
            "[[1. 2.]\n",
            " [4. 5.]], shape=(2, 2), dtype=float32)\n"
          ]
        }
      ]
    },
    {
      "cell_type": "code",
      "source": [
        "tensor_two_d@tensor_two_d_inv"
      ],
      "metadata": {
        "id": "DCKeil0SpEC_",
        "outputId": "65a18ee9-0573-4e31-9456-a1e6a55dcfab",
        "colab": {
          "base_uri": "https://localhost:8080/"
        }
      },
      "execution_count": 36,
      "outputs": [
        {
          "output_type": "execute_result",
          "data": {
            "text/plain": [
              "<tf.Tensor: shape=(2, 2), dtype=float32, numpy=\n",
              "array([[1., 0.],\n",
              "       [0., 1.]], dtype=float32)>"
            ]
          },
          "metadata": {},
          "execution_count": 36
        }
      ]
    },
    {
      "cell_type": "code",
      "source": [
        "s,u,v=tf.linalg.svd(tensor_two_d)\n",
        "print(s)\n",
        "print(u)\n",
        "print(v)"
      ],
      "metadata": {
        "id": "Z2DQsBT9o6xQ",
        "outputId": "256297a7-8982-4f5f-9058-5307aacac1fe",
        "colab": {
          "base_uri": "https://localhost:8080/"
        }
      },
      "execution_count": 37,
      "outputs": [
        {
          "output_type": "stream",
          "name": "stdout",
          "text": [
            "tf.Tensor([6.767828  0.4432736], shape=(2,), dtype=float32)\n",
            "tf.Tensor(\n",
            "[[ 0.3245364  -0.94587314]\n",
            " [ 0.94587314  0.3245364 ]], shape=(2, 2), dtype=float32)\n",
            "tf.Tensor(\n",
            "[[ 0.6069936   0.79470664]\n",
            " [ 0.79470664 -0.6069936 ]], shape=(2, 2), dtype=float32)\n"
          ]
        }
      ]
    },
    {
      "cell_type": "code",
      "source": [
        "import numpy as np"
      ],
      "metadata": {
        "id": "JcGMBsNdpOBm"
      },
      "execution_count": 38,
      "outputs": []
    },
    {
      "cell_type": "code",
      "source": [
        "A=np.array([[2,3,4,5],\n",
        "            [3,4,5,6],\n",
        "            [5,6,7,8]])\n",
        "B=np.array([[2,3,4,5],\n",
        "            [3,4,5,6],\n",
        "            [5,6,7,8],\n",
        "            [1,2,3,4]])\n",
        "print(A.shape)\n",
        "print(B.shape)"
      ],
      "metadata": {
        "id": "HK8QEWbLptol",
        "outputId": "67a33335-e5eb-43c5-b251-6fb7408b03d0",
        "colab": {
          "base_uri": "https://localhost:8080/"
        }
      },
      "execution_count": 41,
      "outputs": [
        {
          "output_type": "stream",
          "name": "stdout",
          "text": [
            "(3, 4)\n",
            "(4, 4)\n"
          ]
        }
      ]
    },
    {
      "cell_type": "code",
      "source": [
        "print(np.matmul(A,B))"
      ],
      "metadata": {
        "id": "8G2RegLQqBfq",
        "outputId": "fa1c241b-aa7b-4ddc-f0bc-4133f3b53ef2",
        "colab": {
          "base_uri": "https://localhost:8080/"
        }
      },
      "execution_count": 42,
      "outputs": [
        {
          "output_type": "stream",
          "name": "stdout",
          "text": [
            "[[ 38  52  66  80]\n",
            " [ 49  67  85 103]\n",
            " [ 71  97 123 149]]\n"
          ]
        }
      ]
    },
    {
      "cell_type": "code",
      "source": [
        "print(\"Einsum C:\")\n",
        "print(np.einsum(\"ij,jk-> ik\",A,B))"
      ],
      "metadata": {
        "id": "GrLC9snQqHz1",
        "outputId": "486fbd9e-04b7-42a8-8178-111ad660d09d",
        "colab": {
          "base_uri": "https://localhost:8080/"
        }
      },
      "execution_count": 44,
      "outputs": [
        {
          "output_type": "stream",
          "name": "stdout",
          "text": [
            "Einsum C:\n",
            "[[ 38  52  66  80]\n",
            " [ 49  67  85 103]\n",
            " [ 71  97 123 149]]\n"
          ]
        }
      ]
    },
    {
      "cell_type": "code",
      "source": [
        "A=np.array([[2,3,4,5],\n",
        "            [3,4,5,6],\n",
        "            [5,6,7,8]])\n",
        "B=np.array([[2,3,4,5],\n",
        "            [3,4,5,6],\n",
        "            [5,6,7,8]])\n",
        "print(A.shape)\n",
        "print(B.shape)\n",
        "print(\"Haramond C=:\")\n",
        "print(A*B)"
      ],
      "metadata": {
        "id": "XBrU-cmxqe4V",
        "outputId": "7dc11db9-202f-4aaa-939e-6b7fe47e98ab",
        "colab": {
          "base_uri": "https://localhost:8080/"
        }
      },
      "execution_count": 46,
      "outputs": [
        {
          "output_type": "stream",
          "name": "stdout",
          "text": [
            "(3, 4)\n",
            "(3, 4)\n",
            "Haramond C=:\n",
            "[[ 4  9 16 25]\n",
            " [ 9 16 25 36]\n",
            " [25 36 49 64]]\n"
          ]
        }
      ]
    },
    {
      "cell_type": "code",
      "source": [
        "print(\"Transposed A:\")\n",
        "print(A.T)\n",
        "\n",
        "print(\"Einsum Transpose\")\n",
        "print(np.einsum(\"ij->ji\",A))"
      ],
      "metadata": {
        "id": "Ml4tWBEuqzJS",
        "outputId": "68695545-b736-46be-b4ef-03f343b0cd9b",
        "colab": {
          "base_uri": "https://localhost:8080/"
        }
      },
      "execution_count": 51,
      "outputs": [
        {
          "output_type": "stream",
          "name": "stdout",
          "text": [
            "Transposed A:\n",
            "[[2 3 5]\n",
            " [3 4 6]\n",
            " [4 5 7]\n",
            " [5 6 8]]\n",
            "Einsum Transpose\n",
            "[[2 3 5]\n",
            " [3 4 6]\n",
            " [4 5 7]\n",
            " [5 6 8]]\n"
          ]
        }
      ]
    },
    {
      "cell_type": "code",
      "source": [
        "batchsize = 32\n",
        "s_q = 64\n",
        "s_k=128\n",
        "s_v=64\n",
        "modelsize = 512"
      ],
      "metadata": {
        "id": "93Vh4Sl7r1ac"
      },
      "execution_count": 59,
      "outputs": []
    },
    {
      "cell_type": "code",
      "source": [
        "Q=batchsize,s_q,modelsize\n",
        "K=batchsize,s_k,modelsize\n",
        "V=batchsize,s_v,modelsize"
      ],
      "metadata": {
        "id": "UNtFMGNyrbAW"
      },
      "execution_count": 60,
      "outputs": []
    },
    {
      "cell_type": "code",
      "source": [
        "Q=np.random.randn(32,64,512)\n",
        "K=np.random.randn(32,128,512)\n",
        "V=np.random.randn(32,128,64)"
      ],
      "metadata": {
        "id": "nYr-xndnrqE_"
      },
      "execution_count": 53,
      "outputs": []
    },
    {
      "cell_type": "code",
      "source": [
        "np.einsum()"
      ],
      "metadata": {
        "id": "HGDg-67hrwkw"
      },
      "execution_count": null,
      "outputs": []
    }
  ]
}