{
  "nbformat": 4,
  "nbformat_minor": 0,
  "metadata": {
    "colab": {
      "provenance": [],
      "include_colab_link": true
    },
    "kernelspec": {
      "name": "python3",
      "display_name": "Python 3"
    },
    "language_info": {
      "name": "python"
    }
  },
  "cells": [
    {
      "cell_type": "markdown",
      "metadata": {
        "id": "view-in-github",
        "colab_type": "text"
      },
      "source": [
        "<a href=\"https://colab.research.google.com/github/Naman09746/Learning/blob/main/Deep-Learning-For-Computer-Vision/Tensor%26Variables.ipynb\" target=\"_parent\"><img src=\"https://colab.research.google.com/assets/colab-badge.svg\" alt=\"Open In Colab\"/></a>"
      ]
    },
    {
      "cell_type": "code",
      "execution_count": 2,
      "metadata": {
        "id": "HO7NLp1WVjMP"
      },
      "outputs": [],
      "source": [
        "import tensorflow as tf"
      ]
    },
    {
      "cell_type": "code",
      "source": [
        "tensor_zero_d=tf.constant(10)\n",
        "print(tensor_zero_d)"
      ],
      "metadata": {
        "colab": {
          "base_uri": "https://localhost:8080/"
        },
        "id": "p4HK1ETzVrBn",
        "outputId": "ac0c4832-fa71-40c9-bf35-4d61e74bce4a"
      },
      "execution_count": 3,
      "outputs": [
        {
          "output_type": "stream",
          "name": "stdout",
          "text": [
            "tf.Tensor(10, shape=(), dtype=int32)\n"
          ]
        }
      ]
    },
    {
      "cell_type": "code",
      "source": [
        "tensor_one_d=tf.constant([1,2,3,4])#dtype int\n",
        "print(tensor_one_d)"
      ],
      "metadata": {
        "colab": {
          "base_uri": "https://localhost:8080/"
        },
        "id": "iyfFLmPjV_uI",
        "outputId": "960d4d1a-4bed-499b-f789-de41c8eaa915"
      },
      "execution_count": 4,
      "outputs": [
        {
          "output_type": "stream",
          "name": "stdout",
          "text": [
            "tf.Tensor([1 2 3 4], shape=(4,), dtype=int32)\n"
          ]
        }
      ]
    },
    {
      "cell_type": "code",
      "source": [
        "# tensor_one_d=tf.constant([1,2,3,4.])#dtype float32\n",
        "# print(tensor_one_d)\n",
        "tensor_one_d_f=tf.constant([1,2,3,4],dtype=tf.float32)#dtype float32\n",
        "print(tensor_one_d)"
      ],
      "metadata": {
        "colab": {
          "base_uri": "https://localhost:8080/"
        },
        "id": "Inqwv_NmWH6k",
        "outputId": "7988be6f-32b3-4780-d0cc-f9386254f446"
      },
      "execution_count": 5,
      "outputs": [
        {
          "output_type": "stream",
          "name": "stdout",
          "text": [
            "tf.Tensor([1 2 3 4], shape=(4,), dtype=int32)\n"
          ]
        }
      ]
    },
    {
      "cell_type": "code",
      "source": [
        "#CASTING\n",
        "casted_tensor_one_d= tf.cast(tensor_one_d_f,dtype=tf.int32)\n",
        "print(casted_tensor_one_d)"
      ],
      "metadata": {
        "colab": {
          "base_uri": "https://localhost:8080/"
        },
        "id": "qDbuGQ3qai1a",
        "outputId": "af0924aa-2d3a-40e1-95ae-580f0eac38a5"
      },
      "execution_count": 6,
      "outputs": [
        {
          "output_type": "stream",
          "name": "stdout",
          "text": [
            "tf.Tensor([1 2 3 4], shape=(4,), dtype=int32)\n"
          ]
        }
      ]
    },
    {
      "cell_type": "code",
      "source": [
        "tensor_two_d=tf.constant([\n",
        "     [1,2,3],\n",
        "     [4,5,6]\n",
        "    ])\n",
        "print(tensor_two_d)"
      ],
      "metadata": {
        "colab": {
          "base_uri": "https://localhost:8080/"
        },
        "id": "jwl7l2-ZWTxY",
        "outputId": "c6c37d3b-0ade-48d1-cd74-739e407084f7"
      },
      "execution_count": 7,
      "outputs": [
        {
          "output_type": "stream",
          "name": "stdout",
          "text": [
            "tf.Tensor(\n",
            "[[1 2 3]\n",
            " [4 5 6]], shape=(2, 3), dtype=int32)\n"
          ]
        }
      ]
    },
    {
      "cell_type": "code",
      "source": [
        "tensor_three_d=tf.constant([\n",
        "    [\n",
        "        [1,2,3],\n",
        "        [5,6,7]\n",
        "    ],\n",
        "    [\n",
        "        [0,9,8],\n",
        "        [7,6,5]\n",
        "    ]\n",
        "])\n",
        "print(tensor_three_d)"
      ],
      "metadata": {
        "colab": {
          "base_uri": "https://localhost:8080/"
        },
        "id": "zljnfhguW9l9",
        "outputId": "b43978ca-306f-4436-a560-a40050577342"
      },
      "execution_count": 8,
      "outputs": [
        {
          "output_type": "stream",
          "name": "stdout",
          "text": [
            "tf.Tensor(\n",
            "[[[1 2 3]\n",
            "  [5 6 7]]\n",
            "\n",
            " [[0 9 8]\n",
            "  [7 6 5]]], shape=(2, 2, 3), dtype=int32)\n"
          ]
        }
      ]
    },
    {
      "cell_type": "code",
      "source": [
        "tensor_four_d=tf.constant([\n",
        "    [\n",
        "        [\n",
        "            [1,2,3,4],\n",
        "            [5,6,7,8]\n",
        "        ],\n",
        "        [\n",
        "            [1,2,3,4],\n",
        "            [5,6,7,8]\n",
        "        ]\n",
        "    ]\n",
        "])\n",
        "print(tensor_four_d)"
      ],
      "metadata": {
        "colab": {
          "base_uri": "https://localhost:8080/"
        },
        "id": "BRtmXOJ1Xh7O",
        "outputId": "f3980712-626f-46e8-ead3-0815f3513bcc"
      },
      "execution_count": 9,
      "outputs": [
        {
          "output_type": "stream",
          "name": "stdout",
          "text": [
            "tf.Tensor(\n",
            "[[[[1 2 3 4]\n",
            "   [5 6 7 8]]\n",
            "\n",
            "  [[1 2 3 4]\n",
            "   [5 6 7 8]]]], shape=(1, 2, 2, 4), dtype=int32)\n"
          ]
        }
      ]
    },
    {
      "cell_type": "code",
      "source": [
        "import numpy as np"
      ],
      "metadata": {
        "id": "0Lbozfy3YnRz"
      },
      "execution_count": 10,
      "outputs": []
    },
    {
      "cell_type": "code",
      "source": [
        "np_array= np.array([1,2,3])\n",
        "print(np_array)"
      ],
      "metadata": {
        "colab": {
          "base_uri": "https://localhost:8080/"
        },
        "id": "N_ILbPXibKx2",
        "outputId": "03d49787-0e49-4e8c-e68e-7ac9f0499b76"
      },
      "execution_count": 11,
      "outputs": [
        {
          "output_type": "stream",
          "name": "stdout",
          "text": [
            "[1 2 3]\n"
          ]
        }
      ]
    },
    {
      "cell_type": "code",
      "source": [
        "converted_tensor=tf.convert_to_tensor(np_array)\n",
        "print(converted_tensor)"
      ],
      "metadata": {
        "colab": {
          "base_uri": "https://localhost:8080/"
        },
        "id": "KuHNxpFMbO3Z",
        "outputId": "7db0cc91-c530-4bc9-9d26-2ecf129c005a"
      },
      "execution_count": 12,
      "outputs": [
        {
          "output_type": "stream",
          "name": "stdout",
          "text": [
            "tf.Tensor([1 2 3], shape=(3,), dtype=int64)\n"
          ]
        }
      ]
    },
    {
      "cell_type": "code",
      "source": [
        "eye_tensor=tf.eye(\n",
        "    num_rows=3,\n",
        "    num_columns=3,\n",
        "    batch_shape=[2],\n",
        "    dtype=tf.dtypes.float32,\n",
        "    name=None\n",
        ")\n",
        "print(eye_tensor)"
      ],
      "metadata": {
        "colab": {
          "base_uri": "https://localhost:8080/"
        },
        "id": "NgmSqqTLbeLg",
        "outputId": "09c3cc45-34fa-41a9-8eb5-3e0ab0cddc28"
      },
      "execution_count": 13,
      "outputs": [
        {
          "output_type": "stream",
          "name": "stdout",
          "text": [
            "tf.Tensor(\n",
            "[[[1. 0. 0.]\n",
            "  [0. 1. 0.]\n",
            "  [0. 0. 1.]]\n",
            "\n",
            " [[1. 0. 0.]\n",
            "  [0. 1. 0.]\n",
            "  [0. 0. 1.]]], shape=(2, 3, 3), dtype=float32)\n"
          ]
        }
      ]
    },
    {
      "cell_type": "code",
      "source": [
        "fill_tensor=tf.fill(\n",
        "    [2,3],\n",
        "    9\n",
        ")\n",
        "print(fill_tensor)"
      ],
      "metadata": {
        "colab": {
          "base_uri": "https://localhost:8080/"
        },
        "id": "oBHX8ag6cKSY",
        "outputId": "40a7d269-a111-4711-dca6-a1d1c34fe39b"
      },
      "execution_count": 14,
      "outputs": [
        {
          "output_type": "stream",
          "name": "stdout",
          "text": [
            "tf.Tensor(\n",
            "[[9 9 9]\n",
            " [9 9 9]], shape=(2, 3), dtype=int32)\n"
          ]
        }
      ]
    },
    {
      "cell_type": "code",
      "source": [
        "ones_tensor=tf.ones(\n",
        "    [2,3],\n",
        "    dtype=tf.dtypes.float32,\n",
        "    name=None\n",
        ")\n",
        "print(ones_tensor)"
      ],
      "metadata": {
        "colab": {
          "base_uri": "https://localhost:8080/"
        },
        "id": "NogTLyKDMmK8",
        "outputId": "9c72f3e1-96e5-489f-d0af-ae7d994428d6"
      },
      "execution_count": 15,
      "outputs": [
        {
          "output_type": "stream",
          "name": "stdout",
          "text": [
            "tf.Tensor(\n",
            "[[1. 1. 1.]\n",
            " [1. 1. 1.]], shape=(2, 3), dtype=float32)\n"
          ]
        }
      ]
    },
    {
      "cell_type": "code",
      "source": [
        "ones_like_tensor=tf.ones_like(\n",
        "    eye_tensor\n",
        ")\n",
        "print(ones_like_tensor)"
      ],
      "metadata": {
        "colab": {
          "base_uri": "https://localhost:8080/"
        },
        "id": "vZZdPKoZNbIw",
        "outputId": "11954113-f222-47a7-943c-b8729fed6792"
      },
      "execution_count": 16,
      "outputs": [
        {
          "output_type": "stream",
          "name": "stdout",
          "text": [
            "tf.Tensor(\n",
            "[[[1. 1. 1.]\n",
            "  [1. 1. 1.]\n",
            "  [1. 1. 1.]]\n",
            "\n",
            " [[1. 1. 1.]\n",
            "  [1. 1. 1.]\n",
            "  [1. 1. 1.]]], shape=(2, 3, 3), dtype=float32)\n"
          ]
        }
      ]
    },
    {
      "cell_type": "code",
      "source": [
        "zeros_tensor=tf.zeros(\n",
        "    [2,3],\n",
        "    dtype=tf.dtypes.float32,\n",
        "    name=None\n",
        ")\n",
        "print(zeros_tensor)"
      ],
      "metadata": {
        "colab": {
          "base_uri": "https://localhost:8080/"
        },
        "id": "cmHHK-JjOcI3",
        "outputId": "b0ad1a2b-d61f-4431-d7c8-925663be513d"
      },
      "execution_count": 17,
      "outputs": [
        {
          "output_type": "stream",
          "name": "stdout",
          "text": [
            "tf.Tensor(\n",
            "[[0. 0. 0.]\n",
            " [0. 0. 0.]], shape=(2, 3), dtype=float32)\n"
          ]
        }
      ]
    },
    {
      "cell_type": "code",
      "source": [
        "zeros_like_tensor=tf.zeros_like(\n",
        "    eye_tensor\n",
        ")\n",
        "print(zeros_like_tensor)"
      ],
      "metadata": {
        "colab": {
          "base_uri": "https://localhost:8080/"
        },
        "id": "hzFWF1JmOrgp",
        "outputId": "ce3d54ef-02b8-4e08-ce06-9a639f514b21"
      },
      "execution_count": 18,
      "outputs": [
        {
          "output_type": "stream",
          "name": "stdout",
          "text": [
            "tf.Tensor(\n",
            "[[[0. 0. 0.]\n",
            "  [0. 0. 0.]\n",
            "  [0. 0. 0.]]\n",
            "\n",
            " [[0. 0. 0.]\n",
            "  [0. 0. 0.]\n",
            "  [0. 0. 0.]]], shape=(2, 3, 3), dtype=float32)\n"
          ]
        }
      ]
    },
    {
      "cell_type": "code",
      "source": [
        "print(tensor_three_d.shape)"
      ],
      "metadata": {
        "colab": {
          "base_uri": "https://localhost:8080/"
        },
        "id": "LR9yuhm1Owk3",
        "outputId": "bdb919e0-336d-44bc-e7f6-c3a2351f4926"
      },
      "execution_count": 19,
      "outputs": [
        {
          "output_type": "stream",
          "name": "stdout",
          "text": [
            "(2, 2, 3)\n"
          ]
        }
      ]
    },
    {
      "cell_type": "code",
      "source": [
        "tf.rank(tensor_three_d)"
      ],
      "metadata": {
        "colab": {
          "base_uri": "https://localhost:8080/"
        },
        "id": "rm_2ZauzO3Kg",
        "outputId": "86e32933-8569-4bac-8026-3fc7c64dd06c"
      },
      "execution_count": 20,
      "outputs": [
        {
          "output_type": "execute_result",
          "data": {
            "text/plain": [
              "<tf.Tensor: shape=(), dtype=int32, numpy=3>"
            ]
          },
          "metadata": {},
          "execution_count": 20
        }
      ]
    },
    {
      "cell_type": "code",
      "source": [
        "tf.size(tensor_three_d)"
      ],
      "metadata": {
        "colab": {
          "base_uri": "https://localhost:8080/"
        },
        "id": "WIoLnSi0PE1N",
        "outputId": "32657fee-7119-42c1-f5e0-495a915a6fe6"
      },
      "execution_count": 21,
      "outputs": [
        {
          "output_type": "execute_result",
          "data": {
            "text/plain": [
              "<tf.Tensor: shape=(), dtype=int32, numpy=12>"
            ]
          },
          "metadata": {},
          "execution_count": 21
        }
      ]
    },
    {
      "cell_type": "code",
      "source": [
        "tf.size(tensor_three_d,out_type=tf.float32)"
      ],
      "metadata": {
        "colab": {
          "base_uri": "https://localhost:8080/"
        },
        "id": "8iIQY-tKPlPK",
        "outputId": "e12c8235-e8df-44fa-c545-0b238ae6f092"
      },
      "execution_count": 22,
      "outputs": [
        {
          "output_type": "execute_result",
          "data": {
            "text/plain": [
              "<tf.Tensor: shape=(), dtype=float32, numpy=12.0>"
            ]
          },
          "metadata": {},
          "execution_count": 22
        }
      ]
    },
    {
      "cell_type": "code",
      "source": [
        "random_tensor= tf.random.normal(\n",
        "    [3,2],\n",
        "    mean=100.0,\n",
        "    stddev=1.0,\n",
        "    dtype=tf.dtypes.float32,\n",
        "    seed=None,\n",
        "    name=None\n",
        ")\n",
        "print(random_tensor)"
      ],
      "metadata": {
        "colab": {
          "base_uri": "https://localhost:8080/"
        },
        "id": "1FQCa61vR-94",
        "outputId": "d70874ed-96d3-418e-a3d0-fc7ea11e1f68"
      },
      "execution_count": 23,
      "outputs": [
        {
          "output_type": "stream",
          "name": "stdout",
          "text": [
            "tf.Tensor(\n",
            "[[ 99.995544 100.60541 ]\n",
            " [100.37661  101.19107 ]\n",
            " [ 99.64199   99.28634 ]], shape=(3, 2), dtype=float32)\n"
          ]
        }
      ]
    },
    {
      "cell_type": "code",
      "source": [
        "uniform_tensor= tf.random.uniform(\n",
        "    [3,2],\n",
        "    minval=0,\n",
        "    maxval=None,\n",
        "    dtype=tf.dtypes.float32,\n",
        "    seed=None,\n",
        "    name=None\n",
        ")\n",
        "print(uniform_tensor)"
      ],
      "metadata": {
        "colab": {
          "base_uri": "https://localhost:8080/"
        },
        "id": "b1f53_r6SL3q",
        "outputId": "c98edf65-ae2c-488a-bb52-9d5fa3713b0a"
      },
      "execution_count": 24,
      "outputs": [
        {
          "output_type": "stream",
          "name": "stdout",
          "text": [
            "tf.Tensor(\n",
            "[[0.0157727  0.25291216]\n",
            " [0.5805471  0.16464877]\n",
            " [0.6714821  0.5786921 ]], shape=(3, 2), dtype=float32)\n"
          ]
        }
      ]
    },
    {
      "cell_type": "code",
      "source": [
        "tf.random.set_seed(5)\n",
        "print(tf.random.uniform([1],seed=1))\n",
        "print(tf.random.uniform([1],seed=1))\n",
        "print(tf.random.uniform([1],seed=1))"
      ],
      "metadata": {
        "colab": {
          "base_uri": "https://localhost:8080/"
        },
        "id": "-1sMKGrnTnJ3",
        "outputId": "4c625068-1312-477d-bc1a-e43eefdf4c9d"
      },
      "execution_count": 25,
      "outputs": [
        {
          "output_type": "stream",
          "name": "stdout",
          "text": [
            "tf.Tensor([0.3875184], shape=(1,), dtype=float32)\n",
            "tf.Tensor([0.98592305], shape=(1,), dtype=float32)\n",
            "tf.Tensor([0.9647], shape=(1,), dtype=float32)\n"
          ]
        }
      ]
    },
    {
      "cell_type": "code",
      "source": [
        "tensor_indexed= tf.constant([1,2,3,4,5,6,7])\n",
        "print(tensor_indexed)\n",
        "print(tensor_indexed[0:3])#min:max-1\n",
        "print(tensor_indexed[0:6:2])"
      ],
      "metadata": {
        "colab": {
          "base_uri": "https://localhost:8080/"
        },
        "id": "9YB45pY9T54j",
        "outputId": "6106b919-fdc4-4818-f11e-8beb3cd673da"
      },
      "execution_count": 26,
      "outputs": [
        {
          "output_type": "stream",
          "name": "stdout",
          "text": [
            "tf.Tensor([1 2 3 4 5 6 7], shape=(7,), dtype=int32)\n",
            "tf.Tensor([1 2 3], shape=(3,), dtype=int32)\n",
            "tf.Tensor([1 3 5], shape=(3,), dtype=int32)\n"
          ]
        }
      ]
    },
    {
      "cell_type": "code",
      "source": [
        "tensor_2_d=tf.constant([\n",
        "    [1,2,3,4],\n",
        "    [5,6,7,8],\n",
        "    [9,10,11,12]\n",
        "])\n",
        "print(tensor_2_d)\n",
        "print(tensor_2_d[0:2,1:3])"
      ],
      "metadata": {
        "colab": {
          "base_uri": "https://localhost:8080/"
        },
        "id": "Ul4OcOwntYwD",
        "outputId": "ca25aac4-be23-4c32-e37d-cde84ac86a5d"
      },
      "execution_count": 27,
      "outputs": [
        {
          "output_type": "stream",
          "name": "stdout",
          "text": [
            "tf.Tensor(\n",
            "[[ 1  2  3  4]\n",
            " [ 5  6  7  8]\n",
            " [ 9 10 11 12]], shape=(3, 4), dtype=int32)\n",
            "tf.Tensor(\n",
            "[[2 3]\n",
            " [6 7]], shape=(2, 2), dtype=int32)\n"
          ]
        }
      ]
    },
    {
      "cell_type": "code",
      "source": [
        "print(tensor_2_d[...,1:3])"
      ],
      "metadata": {
        "colab": {
          "base_uri": "https://localhost:8080/"
        },
        "id": "DWBDIbAIu4u1",
        "outputId": "300cabd2-0ae4-4fe7-9864-afb1b49ea6d2"
      },
      "execution_count": 28,
      "outputs": [
        {
          "output_type": "stream",
          "name": "stdout",
          "text": [
            "tf.Tensor(\n",
            "[[ 2  3]\n",
            " [ 6  7]\n",
            " [10 11]], shape=(3, 2), dtype=int32)\n"
          ]
        }
      ]
    },
    {
      "cell_type": "code",
      "source": [
        "x_abs=tf.constant([-2,-1,0,1,2])\n",
        "print(tf.abs(x_abs))"
      ],
      "metadata": {
        "colab": {
          "base_uri": "https://localhost:8080/"
        },
        "id": "GEtEXrlru-lk",
        "outputId": "70a53303-1a19-4ec7-cdbd-bf71c7ff1fa8"
      },
      "execution_count": 29,
      "outputs": [
        {
          "output_type": "stream",
          "name": "stdout",
          "text": [
            "tf.Tensor([2 1 0 1 2], shape=(5,), dtype=int32)\n"
          ]
        }
      ]
    },
    {
      "cell_type": "code",
      "source": [
        "tf.abs(tf.constant([-2,-1,0,1,2]))"
      ],
      "metadata": {
        "colab": {
          "base_uri": "https://localhost:8080/"
        },
        "id": "HafQrXy2vQGg",
        "outputId": "030ffbd3-6e71-415b-db48-10ed2cf0ba1e"
      },
      "execution_count": 30,
      "outputs": [
        {
          "output_type": "execute_result",
          "data": {
            "text/plain": [
              "<tf.Tensor: shape=(5,), dtype=int32, numpy=array([2, 1, 0, 1, 2], dtype=int32)>"
            ]
          },
          "metadata": {},
          "execution_count": 30
        }
      ]
    },
    {
      "cell_type": "code",
      "source": [
        "x_abs_complex=tf.constant([-2-4j,1+1j,-5+7j,0])\n",
        "print(tf.abs(x_abs_complex))"
      ],
      "metadata": {
        "colab": {
          "base_uri": "https://localhost:8080/"
        },
        "id": "HolU1YWEvVmv",
        "outputId": "db1364e2-bb2f-487c-9c50-824ebff7ab48"
      },
      "execution_count": 31,
      "outputs": [
        {
          "output_type": "stream",
          "name": "stdout",
          "text": [
            "tf.Tensor([4.47213595 1.41421356 8.60232527 0.        ], shape=(4,), dtype=float64)\n"
          ]
        }
      ]
    },
    {
      "cell_type": "code",
      "source": [
        "tf.sqrt(2.25**2+ 4.75**2)"
      ],
      "metadata": {
        "colab": {
          "base_uri": "https://localhost:8080/"
        },
        "id": "hvRvwIaJvsIo",
        "outputId": "019eb90f-ed42-4384-85cc-a132f925caeb"
      },
      "execution_count": 32,
      "outputs": [
        {
          "output_type": "execute_result",
          "data": {
            "text/plain": [
              "<tf.Tensor: shape=(), dtype=float32, numpy=5.255949020385742>"
            ]
          },
          "metadata": {},
          "execution_count": 32
        }
      ]
    },
    {
      "cell_type": "code",
      "source": [
        "x_1=tf.constant([1,2,3,4])\n",
        "x_2=tf.constant([5,6,7,8])\n",
        "print(tf.add(x_1,x_2))\n",
        "print(tf.subtract(x_1,x_2))\n",
        "print(tf.multiply(x_1,x_2))\n",
        "print(tf.divide(x_1,x_2))"
      ],
      "metadata": {
        "colab": {
          "base_uri": "https://localhost:8080/"
        },
        "id": "Xx7k085lvyuh",
        "outputId": "10ef914b-ef3a-4352-f373-f21988b13e06"
      },
      "execution_count": 33,
      "outputs": [
        {
          "output_type": "stream",
          "name": "stdout",
          "text": [
            "tf.Tensor([ 6  8 10 12], shape=(4,), dtype=int32)\n",
            "tf.Tensor([-4 -4 -4 -4], shape=(4,), dtype=int32)\n",
            "tf.Tensor([ 5 12 21 32], shape=(4,), dtype=int32)\n",
            "tf.Tensor([0.2        0.33333333 0.42857143 0.5       ], shape=(4,), dtype=float64)\n"
          ]
        }
      ]
    },
    {
      "cell_type": "code",
      "source": [
        "# x3=tf.constant([7],dtype=tf.float32)\n",
        "# print(tf.math.multiply(x_1,x3))\n",
        "x3=tf.constant([7],dtype=tf.int32) # Change the data type of x3 to int32 to match x_1\n",
        "print(tf.math.add(x_1,x3))"
      ],
      "metadata": {
        "colab": {
          "base_uri": "https://localhost:8080/"
        },
        "id": "Q5q08iqov2QT",
        "outputId": "51681a2d-03a3-4ad9-bd24-de65f3d29f4c"
      },
      "execution_count": 34,
      "outputs": [
        {
          "output_type": "stream",
          "name": "stdout",
          "text": [
            "tf.Tensor([ 8  9 10 11], shape=(4,), dtype=int32)\n"
          ]
        }
      ]
    },
    {
      "cell_type": "code",
      "source": [
        "x_argmax=tf.constant(([2,23,42,41,4],\n",
        "                      [3,4,6,16,64],\n",
        "                      [13,54,44,34,4]))\n",
        "print(x_argmax)"
      ],
      "metadata": {
        "id": "mGEeGRKTHiWD",
        "colab": {
          "base_uri": "https://localhost:8080/"
        },
        "outputId": "d00a93df-e2b2-41f9-8002-6bd9e2246f7b"
      },
      "execution_count": 35,
      "outputs": [
        {
          "output_type": "stream",
          "name": "stdout",
          "text": [
            "tf.Tensor(\n",
            "[[ 2 23 42 41  4]\n",
            " [ 3  4  6 16 64]\n",
            " [13 54 44 34  4]], shape=(3, 5), dtype=int32)\n"
          ]
        }
      ]
    },
    {
      "cell_type": "code",
      "source": [
        "print(tf.math.argmax(x_argmax))"
      ],
      "metadata": {
        "colab": {
          "base_uri": "https://localhost:8080/"
        },
        "id": "oqCBOwhwiZff",
        "outputId": "8fedc0ac-de54-410f-b259-60f78afdacfb"
      },
      "execution_count": 36,
      "outputs": [
        {
          "output_type": "stream",
          "name": "stdout",
          "text": [
            "tf.Tensor([2 2 2 0 1], shape=(5,), dtype=int64)\n"
          ]
        }
      ]
    },
    {
      "cell_type": "code",
      "source": [
        "x=tf.constant([[2,3],[3,4]])\n",
        "y=tf.constant([[3,4],[5,6]])\n",
        "tf.pow(x,y)"
      ],
      "metadata": {
        "colab": {
          "base_uri": "https://localhost:8080/"
        },
        "id": "ks2ibfQGjfMX",
        "outputId": "b3fea71a-e440-44e4-a9a3-731c9aa7a8ed"
      },
      "execution_count": 37,
      "outputs": [
        {
          "output_type": "execute_result",
          "data": {
            "text/plain": [
              "<tf.Tensor: shape=(2, 2), dtype=int32, numpy=\n",
              "array([[   8,   81],\n",
              "       [ 243, 4096]], dtype=int32)>"
            ]
          },
          "metadata": {},
          "execution_count": 37
        }
      ]
    },
    {
      "cell_type": "code",
      "source": [
        "tf.pow(tf.constant(2),tf.constant(3))"
      ],
      "metadata": {
        "colab": {
          "base_uri": "https://localhost:8080/"
        },
        "id": "T4hoNtSWj_kE",
        "outputId": "989c0af2-aeca-4169-a656-761128f2128e"
      },
      "execution_count": 38,
      "outputs": [
        {
          "output_type": "execute_result",
          "data": {
            "text/plain": [
              "<tf.Tensor: shape=(), dtype=int32, numpy=8>"
            ]
          },
          "metadata": {},
          "execution_count": 38
        }
      ]
    },
    {
      "cell_type": "code",
      "source": [
        "tf.math.reduce_sum(\n",
        "    input_tensor=tensor_two_d,\n",
        "    axis=None,\n",
        "    keepdims=False,\n",
        "    name=None\n",
        ")"
      ],
      "metadata": {
        "colab": {
          "base_uri": "https://localhost:8080/"
        },
        "id": "eRcnNh4TkHa9",
        "outputId": "ea9b7aa9-496c-407e-f5fe-92a076f502bf"
      },
      "execution_count": 39,
      "outputs": [
        {
          "output_type": "execute_result",
          "data": {
            "text/plain": [
              "<tf.Tensor: shape=(), dtype=int32, numpy=21>"
            ]
          },
          "metadata": {},
          "execution_count": 39
        }
      ]
    },
    {
      "cell_type": "code",
      "source": [
        "tf.math.top_k(tensor_two_d,k=1)"
      ],
      "metadata": {
        "colab": {
          "base_uri": "https://localhost:8080/"
        },
        "id": "zqtNmi6zkW6l",
        "outputId": "27ef1b01-f865-41bd-ffb9-cef9b809b3d4"
      },
      "execution_count": 40,
      "outputs": [
        {
          "output_type": "execute_result",
          "data": {
            "text/plain": [
              "TopKV2(values=<tf.Tensor: shape=(2, 1), dtype=int32, numpy=\n",
              "array([[3],\n",
              "       [6]], dtype=int32)>, indices=<tf.Tensor: shape=(2, 1), dtype=int32, numpy=\n",
              "array([[2],\n",
              "       [2]], dtype=int32)>)"
            ]
          },
          "metadata": {},
          "execution_count": 40
        }
      ]
    },
    {
      "cell_type": "code",
      "source": [
        "x_1=tf.constant([[1,2,3],\n",
        "                [4,5,6]])\n",
        "x_2=tf.constant([[5,6,7,8],\n",
        "                 [1,3,5,6],\n",
        "                 [3,4,1,2]]) # Added a row to x_2 to make it compatible for matrix multiplication\n",
        "\n",
        "print(x_1.shape)\n",
        "print(x_2.shape)\n",
        "\n",
        "tf.linalg.matmul(\n",
        "    x_1,x_2,transpose_a=False,transpose_b=False,adjoint_a=False,adjoint_b=False,a_is_sparse=False,b_is_sparse=False,\n",
        "    output_type=None,\n",
        "    name=None\n",
        ")"
      ],
      "metadata": {
        "colab": {
          "base_uri": "https://localhost:8080/"
        },
        "id": "VYQ_8vlfkx64",
        "outputId": "2c68b3f4-b465-42dc-9997-ca8bbcc9efc2"
      },
      "execution_count": 41,
      "outputs": [
        {
          "output_type": "stream",
          "name": "stdout",
          "text": [
            "(2, 3)\n",
            "(3, 4)\n"
          ]
        },
        {
          "output_type": "execute_result",
          "data": {
            "text/plain": [
              "<tf.Tensor: shape=(2, 4), dtype=int32, numpy=\n",
              "array([[16, 24, 20, 26],\n",
              "       [43, 63, 59, 74]], dtype=int32)>"
            ]
          },
          "metadata": {},
          "execution_count": 41
        }
      ]
    },
    {
      "cell_type": "code",
      "source": [
        "tf.transpose(x_1)"
      ],
      "metadata": {
        "colab": {
          "base_uri": "https://localhost:8080/"
        },
        "id": "Sd7wgrSrlH2p",
        "outputId": "29eb6b31-baf1-4297-9c22-0c78e17f3513"
      },
      "execution_count": 42,
      "outputs": [
        {
          "output_type": "execute_result",
          "data": {
            "text/plain": [
              "<tf.Tensor: shape=(3, 2), dtype=int32, numpy=\n",
              "array([[1, 4],\n",
              "       [2, 5],\n",
              "       [3, 6]], dtype=int32)>"
            ]
          },
          "metadata": {},
          "execution_count": 42
        }
      ]
    },
    {
      "cell_type": "code",
      "source": [
        "tensor_two_d=tf.constant([\n",
        "    [1,2,3],\n",
        "    [4,5,6]\n",
        "    ])\n",
        "print(tensor_two_d)\n",
        "\n",
        "tensor_out_d=tf.constant([[1,0,0],\n",
        "                          [0,0,0]])\n",
        "print(tensor_out_d)\n",
        "\n",
        "tf.linalg.band_part(tensor_two_d,num_lower=0,num_upper=1)"
      ],
      "metadata": {
        "colab": {
          "base_uri": "https://localhost:8080/"
        },
        "id": "oxsM-pABlGeC",
        "outputId": "34f78535-8615-468b-b768-f2b1bae03dc8"
      },
      "execution_count": 43,
      "outputs": [
        {
          "output_type": "stream",
          "name": "stdout",
          "text": [
            "tf.Tensor(\n",
            "[[1 2 3]\n",
            " [4 5 6]], shape=(2, 3), dtype=int32)\n",
            "tf.Tensor(\n",
            "[[1 0 0]\n",
            " [0 0 0]], shape=(2, 3), dtype=int32)\n"
          ]
        },
        {
          "output_type": "execute_result",
          "data": {
            "text/plain": [
              "<tf.Tensor: shape=(2, 3), dtype=int32, numpy=\n",
              "array([[1, 2, 0],\n",
              "       [0, 5, 6]], dtype=int32)>"
            ]
          },
          "metadata": {},
          "execution_count": 43
        }
      ]
    },
    {
      "cell_type": "code",
      "source": [
        "tensor_two_d = tf.constant([\n",
        "    [1, 2],\n",
        "    [4, 5]\n",
        "], dtype=tf.float32)  # Changed the shape to (2, 2) to make it square\n",
        "print(tensor_two_d)\n",
        "\n",
        "tensor_two_d_inv=tf.linalg.inv(tensor_two_d)"
      ],
      "metadata": {
        "id": "VoeCX0ylotLI",
        "outputId": "530af37e-8025-477a-c9f8-268d1c2fab8e",
        "colab": {
          "base_uri": "https://localhost:8080/"
        }
      },
      "execution_count": 44,
      "outputs": [
        {
          "output_type": "stream",
          "name": "stdout",
          "text": [
            "tf.Tensor(\n",
            "[[1. 2.]\n",
            " [4. 5.]], shape=(2, 2), dtype=float32)\n"
          ]
        }
      ]
    },
    {
      "cell_type": "code",
      "source": [
        "tensor_two_d@tensor_two_d_inv"
      ],
      "metadata": {
        "id": "DCKeil0SpEC_",
        "outputId": "66627794-b90b-4562-a7c4-c4873232a751",
        "colab": {
          "base_uri": "https://localhost:8080/"
        }
      },
      "execution_count": 45,
      "outputs": [
        {
          "output_type": "execute_result",
          "data": {
            "text/plain": [
              "<tf.Tensor: shape=(2, 2), dtype=float32, numpy=\n",
              "array([[1., 0.],\n",
              "       [0., 1.]], dtype=float32)>"
            ]
          },
          "metadata": {},
          "execution_count": 45
        }
      ]
    },
    {
      "cell_type": "code",
      "source": [
        "s,u,v=tf.linalg.svd(tensor_two_d)\n",
        "print(s)\n",
        "print(u)\n",
        "print(v)"
      ],
      "metadata": {
        "id": "Z2DQsBT9o6xQ",
        "outputId": "d7f91f9e-e2c0-4124-835f-d67a9a92b40d",
        "colab": {
          "base_uri": "https://localhost:8080/"
        }
      },
      "execution_count": 46,
      "outputs": [
        {
          "output_type": "stream",
          "name": "stdout",
          "text": [
            "tf.Tensor([6.767828  0.4432736], shape=(2,), dtype=float32)\n",
            "tf.Tensor(\n",
            "[[ 0.3245364  -0.94587314]\n",
            " [ 0.94587314  0.3245364 ]], shape=(2, 2), dtype=float32)\n",
            "tf.Tensor(\n",
            "[[ 0.6069936   0.79470664]\n",
            " [ 0.79470664 -0.6069936 ]], shape=(2, 2), dtype=float32)\n"
          ]
        }
      ]
    },
    {
      "cell_type": "code",
      "source": [
        "import numpy as np"
      ],
      "metadata": {
        "id": "JcGMBsNdpOBm"
      },
      "execution_count": 47,
      "outputs": []
    },
    {
      "cell_type": "code",
      "source": [
        "A=np.array([[2,3,4,5],\n",
        "            [3,4,5,6],\n",
        "            [5,6,7,8]])\n",
        "B=np.array([[2,3,4,5],\n",
        "            [3,4,5,6],\n",
        "            [5,6,7,8],\n",
        "            [1,2,3,4]])\n",
        "print(A.shape)\n",
        "print(B.shape)"
      ],
      "metadata": {
        "id": "HK8QEWbLptol",
        "outputId": "58f6458f-85a8-46b9-9a62-44c729e75b9d",
        "colab": {
          "base_uri": "https://localhost:8080/"
        }
      },
      "execution_count": 48,
      "outputs": [
        {
          "output_type": "stream",
          "name": "stdout",
          "text": [
            "(3, 4)\n",
            "(4, 4)\n"
          ]
        }
      ]
    },
    {
      "cell_type": "code",
      "source": [
        "print(np.matmul(A,B))"
      ],
      "metadata": {
        "id": "8G2RegLQqBfq",
        "outputId": "d5e5f939-4e38-4869-a18f-0a31841f0c54",
        "colab": {
          "base_uri": "https://localhost:8080/"
        }
      },
      "execution_count": 49,
      "outputs": [
        {
          "output_type": "stream",
          "name": "stdout",
          "text": [
            "[[ 38  52  66  80]\n",
            " [ 49  67  85 103]\n",
            " [ 71  97 123 149]]\n"
          ]
        }
      ]
    },
    {
      "cell_type": "code",
      "source": [
        "print(\"Einsum C:\")\n",
        "print(np.einsum(\"ij,jk-> ik\",A,B))"
      ],
      "metadata": {
        "id": "GrLC9snQqHz1",
        "outputId": "db1d5a5f-3712-4fc3-b5d5-592c7148f0e3",
        "colab": {
          "base_uri": "https://localhost:8080/"
        }
      },
      "execution_count": 50,
      "outputs": [
        {
          "output_type": "stream",
          "name": "stdout",
          "text": [
            "Einsum C:\n",
            "[[ 38  52  66  80]\n",
            " [ 49  67  85 103]\n",
            " [ 71  97 123 149]]\n"
          ]
        }
      ]
    },
    {
      "cell_type": "code",
      "source": [
        "A=np.array([[2,3,4,5],\n",
        "            [3,4,5,6],\n",
        "            [5,6,7,8]])\n",
        "B=np.array([[2,3,4,5],\n",
        "            [3,4,5,6],\n",
        "            [5,6,7,8]])\n",
        "print(A.shape)\n",
        "print(B.shape)\n",
        "print(\"Haramond C=:\")\n",
        "print(A*B)"
      ],
      "metadata": {
        "id": "XBrU-cmxqe4V",
        "outputId": "e0b761d3-28d0-4b0a-ef8e-a77314e6efe1",
        "colab": {
          "base_uri": "https://localhost:8080/"
        }
      },
      "execution_count": 51,
      "outputs": [
        {
          "output_type": "stream",
          "name": "stdout",
          "text": [
            "(3, 4)\n",
            "(3, 4)\n",
            "Haramond C=:\n",
            "[[ 4  9 16 25]\n",
            " [ 9 16 25 36]\n",
            " [25 36 49 64]]\n"
          ]
        }
      ]
    },
    {
      "cell_type": "code",
      "source": [
        "print(\"Transposed A:\")\n",
        "print(A.T)\n",
        "\n",
        "print(\"Einsum Transpose\")\n",
        "print(np.einsum(\"ij->ji\",A))"
      ],
      "metadata": {
        "id": "Ml4tWBEuqzJS",
        "outputId": "6d7865f4-f692-43b6-cc22-174cd6931eed",
        "colab": {
          "base_uri": "https://localhost:8080/"
        }
      },
      "execution_count": 52,
      "outputs": [
        {
          "output_type": "stream",
          "name": "stdout",
          "text": [
            "Transposed A:\n",
            "[[2 3 5]\n",
            " [3 4 6]\n",
            " [4 5 7]\n",
            " [5 6 8]]\n",
            "Einsum Transpose\n",
            "[[2 3 5]\n",
            " [3 4 6]\n",
            " [4 5 7]\n",
            " [5 6 8]]\n"
          ]
        }
      ]
    },
    {
      "cell_type": "code",
      "source": [
        "batchsize = 32\n",
        "s_q = 64\n",
        "s_k=128\n",
        "s_v=64\n",
        "modelsize = 512"
      ],
      "metadata": {
        "id": "93Vh4Sl7r1ac"
      },
      "execution_count": 53,
      "outputs": []
    },
    {
      "cell_type": "code",
      "source": [
        "Q=batchsize,s_q,modelsize\n",
        "K=batchsize,s_k,modelsize\n",
        "V=batchsize,s_v,modelsize"
      ],
      "metadata": {
        "id": "UNtFMGNyrbAW"
      },
      "execution_count": 54,
      "outputs": []
    },
    {
      "cell_type": "code",
      "source": [
        "Q=np.random.randn(32,64,512)\n",
        "K=np.random.randn(32,128,512)\n",
        "V=np.random.randn(32,128,64)"
      ],
      "metadata": {
        "id": "nYr-xndnrqE_"
      },
      "execution_count": 55,
      "outputs": []
    },
    {
      "cell_type": "code",
      "source": [
        "tensor_three_d.shape"
      ],
      "metadata": {
        "colab": {
          "base_uri": "https://localhost:8080/"
        },
        "id": "kUF3RtywqYyC",
        "outputId": "8b643365-b9c5-41cc-ebb8-27eed8a9bdd8"
      },
      "execution_count": 57,
      "outputs": [
        {
          "output_type": "execute_result",
          "data": {
            "text/plain": [
              "TensorShape([2, 2, 3])"
            ]
          },
          "metadata": {},
          "execution_count": 57
        }
      ]
    },
    {
      "cell_type": "code",
      "source": [
        "x_expanded= tf.expand_dims(tensor_three_d,axis=0)\n",
        "print(x_expanded)"
      ],
      "metadata": {
        "colab": {
          "base_uri": "https://localhost:8080/"
        },
        "id": "2BIr7CU3qoZE",
        "outputId": "79646666-a78f-401e-cddc-40763d5e7fe6"
      },
      "execution_count": 58,
      "outputs": [
        {
          "output_type": "stream",
          "name": "stdout",
          "text": [
            "tf.Tensor(\n",
            "[[[[1 2 3]\n",
            "   [5 6 7]]\n",
            "\n",
            "  [[0 9 8]\n",
            "   [7 6 5]]]], shape=(1, 2, 2, 3), dtype=int32)\n"
          ]
        }
      ]
    },
    {
      "cell_type": "code",
      "source": [
        "x_squeezed= tf.squeeze(x_expanded,axis=0)\n",
        "print(x_squeezed)"
      ],
      "metadata": {
        "colab": {
          "base_uri": "https://localhost:8080/"
        },
        "id": "fN06yqwhqtnT",
        "outputId": "710730f4-3258-4aba-b2bf-e22f24d0a819"
      },
      "execution_count": 59,
      "outputs": [
        {
          "output_type": "stream",
          "name": "stdout",
          "text": [
            "tf.Tensor(\n",
            "[[[1 2 3]\n",
            "  [5 6 7]]\n",
            "\n",
            " [[0 9 8]\n",
            "  [7 6 5]]], shape=(2, 2, 3), dtype=int32)\n"
          ]
        }
      ]
    },
    {
      "cell_type": "code",
      "source": [
        "x_reshape= tf.reshape(x_expanded,[2,3,2])\n",
        "print(x_reshape)"
      ],
      "metadata": {
        "colab": {
          "base_uri": "https://localhost:8080/"
        },
        "id": "RZSL5HRXsLtl",
        "outputId": "33ad03a4-d1b0-47c5-93ae-739ba35456d4"
      },
      "execution_count": 60,
      "outputs": [
        {
          "output_type": "stream",
          "name": "stdout",
          "text": [
            "tf.Tensor(\n",
            "[[[1 2]\n",
            "  [3 5]\n",
            "  [6 7]]\n",
            "\n",
            " [[0 9]\n",
            "  [8 7]\n",
            "  [6 5]]], shape=(2, 3, 2), dtype=int32)\n"
          ]
        }
      ]
    },
    {
      "cell_type": "code",
      "source": [
        "t1=tf.constant([[1,2,3],[4,5,6]])\n",
        "t2=tf.constant([[7,8,9],[10,11,12]])\n",
        "print(t1.shape)\n",
        "print(t2.shape)"
      ],
      "metadata": {
        "colab": {
          "base_uri": "https://localhost:8080/"
        },
        "id": "CP4htQsLshpR",
        "outputId": "387c0fcf-0a3c-426e-b9ff-8abf0794b40f"
      },
      "execution_count": 61,
      "outputs": [
        {
          "output_type": "stream",
          "name": "stdout",
          "text": [
            "(2, 3)\n",
            "(2, 3)\n"
          ]
        }
      ]
    },
    {
      "cell_type": "code",
      "source": [
        "tf.concat([t1,t2],axis=0)"
      ],
      "metadata": {
        "id": "NEJRE8FPaUdw",
        "outputId": "1b26d707-d99b-4546-9039-a22260b316d7",
        "colab": {
          "base_uri": "https://localhost:8080/"
        }
      },
      "execution_count": 62,
      "outputs": [
        {
          "output_type": "execute_result",
          "data": {
            "text/plain": [
              "<tf.Tensor: shape=(4, 3), dtype=int32, numpy=\n",
              "array([[ 1,  2,  3],\n",
              "       [ 4,  5,  6],\n",
              "       [ 7,  8,  9],\n",
              "       [10, 11, 12]], dtype=int32)>"
            ]
          },
          "metadata": {},
          "execution_count": 62
        }
      ]
    },
    {
      "cell_type": "code",
      "source": [
        "tf.stack([t1,t2],axis=0)"
      ],
      "metadata": {
        "id": "m2pdFRMda4Fa",
        "outputId": "5e76e781-dffa-4fe1-f81d-76cb456c0262",
        "colab": {
          "base_uri": "https://localhost:8080/"
        }
      },
      "execution_count": 66,
      "outputs": [
        {
          "output_type": "execute_result",
          "data": {
            "text/plain": [
              "<tf.Tensor: shape=(2, 2, 3), dtype=int32, numpy=\n",
              "array([[[ 1,  2,  3],\n",
              "        [ 4,  5,  6]],\n",
              "\n",
              "       [[ 7,  8,  9],\n",
              "        [10, 11, 12]]], dtype=int32)>"
            ]
          },
          "metadata": {},
          "execution_count": 66
        }
      ]
    },
    {
      "cell_type": "code",
      "source": [
        "tf.stack([t1,t2,t1],axis=0)"
      ],
      "metadata": {
        "id": "us8jYng5a9zI",
        "outputId": "2e18d30a-22c9-474b-c04c-0055e20813e1",
        "colab": {
          "base_uri": "https://localhost:8080/"
        }
      },
      "execution_count": 67,
      "outputs": [
        {
          "output_type": "execute_result",
          "data": {
            "text/plain": [
              "<tf.Tensor: shape=(3, 2, 3), dtype=int32, numpy=\n",
              "array([[[ 1,  2,  3],\n",
              "        [ 4,  5,  6]],\n",
              "\n",
              "       [[ 7,  8,  9],\n",
              "        [10, 11, 12]],\n",
              "\n",
              "       [[ 1,  2,  3],\n",
              "        [ 4,  5,  6]]], dtype=int32)>"
            ]
          },
          "metadata": {},
          "execution_count": 67
        }
      ]
    },
    {
      "cell_type": "code",
      "source": [
        "tf.concat([tf.expand_dims(t,axis=0) for t in [t1,t2]],axis=0)"
      ],
      "metadata": {
        "id": "FE3CW5JsbJ8p",
        "outputId": "4fd74c17-a619-472b-e8c4-eb3060c3faed",
        "colab": {
          "base_uri": "https://localhost:8080/"
        }
      },
      "execution_count": 68,
      "outputs": [
        {
          "output_type": "execute_result",
          "data": {
            "text/plain": [
              "<tf.Tensor: shape=(2, 2, 3), dtype=int32, numpy=\n",
              "array([[[ 1,  2,  3],\n",
              "        [ 4,  5,  6]],\n",
              "\n",
              "       [[ 7,  8,  9],\n",
              "        [10, 11, 12]]], dtype=int32)>"
            ]
          },
          "metadata": {},
          "execution_count": 68
        }
      ]
    },
    {
      "cell_type": "code",
      "source": [
        "t= tf.constant([[1,2,3],[4,5,6]])\n",
        "paddings= tf.constant([[1,1],[2,2]])\n",
        "print(tf.pad(t,paddings,'CONSTANT',constant_values=9))"
      ],
      "metadata": {
        "id": "hLXMZEEpcIEG",
        "outputId": "6543ded0-972b-40cd-e66c-65b40302ad8b",
        "colab": {
          "base_uri": "https://localhost:8080/"
        }
      },
      "execution_count": 70,
      "outputs": [
        {
          "output_type": "stream",
          "name": "stdout",
          "text": [
            "tf.Tensor(\n",
            "[[9 9 9 9 9 9 9]\n",
            " [9 9 1 2 3 9 9]\n",
            " [9 9 4 5 6 9 9]\n",
            " [9 9 9 9 9 9 9]], shape=(4, 7), dtype=int32)\n"
          ]
        }
      ]
    },
    {
      "cell_type": "code",
      "source": [
        "params=tf.constant(['p0','p1','p2','p3','p4','p5'])\n",
        "params_shape=tf.shape(params)\n",
        "print(params_shape)"
      ],
      "metadata": {
        "id": "x76HdAUUcp3S",
        "outputId": "3614dc7f-f862-4376-cf10-cae54918fe07",
        "colab": {
          "base_uri": "https://localhost:8080/"
        }
      },
      "execution_count": 72,
      "outputs": [
        {
          "output_type": "stream",
          "name": "stdout",
          "text": [
            "tf.Tensor([6], shape=(1,), dtype=int32)\n"
          ]
        }
      ]
    },
    {
      "cell_type": "code",
      "source": [
        "tf.gather(params,[0,1,2])"
      ],
      "metadata": {
        "id": "w7PLJpHRcy7J",
        "outputId": "e6ce1c31-3a3d-4133-b7a5-d1157e976da2",
        "colab": {
          "base_uri": "https://localhost:8080/"
        }
      },
      "execution_count": 73,
      "outputs": [
        {
          "output_type": "execute_result",
          "data": {
            "text/plain": [
              "<tf.Tensor: shape=(3,), dtype=string, numpy=array([b'p0', b'p1', b'p2'], dtype=object)>"
            ]
          },
          "metadata": {},
          "execution_count": 73
        }
      ]
    },
    {
      "cell_type": "code",
      "source": [
        "params=tf.constant([[0,1,2],\n",
        "                    [2,3,4],\n",
        "                    [4,5,6]])\n",
        "print(params.shape)\n",
        "tf.gather(params,[0,2],axis=0)"
      ],
      "metadata": {
        "id": "fHCLuEmfc5Db",
        "outputId": "295ddab1-9891-484f-940f-5e7274c84604",
        "colab": {
          "base_uri": "https://localhost:8080/"
        }
      },
      "execution_count": 75,
      "outputs": [
        {
          "output_type": "stream",
          "name": "stdout",
          "text": [
            "(3, 3)\n"
          ]
        },
        {
          "output_type": "execute_result",
          "data": {
            "text/plain": [
              "<tf.Tensor: shape=(2, 3), dtype=int32, numpy=\n",
              "array([[0, 1, 2],\n",
              "       [4, 5, 6]], dtype=int32)>"
            ]
          },
          "metadata": {},
          "execution_count": 75
        }
      ]
    },
    {
      "cell_type": "code",
      "source": [
        "indices=[[0],[1]]\n",
        "params=[['a','b'],\n",
        "        ['c','d'],\n",
        "        ['e','f']]\n",
        "tf.gather_nd(params,indices)"
      ],
      "metadata": {
        "id": "P0wG4l3CdIHB",
        "outputId": "8e79ef6d-f1c9-4174-996d-560481ba92b0",
        "colab": {
          "base_uri": "https://localhost:8080/"
        }
      },
      "execution_count": 77,
      "outputs": [
        {
          "output_type": "execute_result",
          "data": {
            "text/plain": [
              "<tf.Tensor: shape=(2, 2), dtype=string, numpy=\n",
              "array([[b'a', b'b'],\n",
              "       [b'c', b'd']], dtype=object)>"
            ]
          },
          "metadata": {},
          "execution_count": 77
        }
      ]
    },
    {
      "cell_type": "code",
      "source": [
        "tf.gather(params,indices)"
      ],
      "metadata": {
        "id": "Zjna9hNodtw7",
        "outputId": "975433a7-1ee7-4104-f7b8-93065b63d399",
        "colab": {
          "base_uri": "https://localhost:8080/"
        }
      },
      "execution_count": 78,
      "outputs": [
        {
          "output_type": "execute_result",
          "data": {
            "text/plain": [
              "<tf.Tensor: shape=(2, 1, 2), dtype=string, numpy=\n",
              "array([[[b'a', b'b']],\n",
              "\n",
              "       [[b'c', b'd']]], dtype=object)>"
            ]
          },
          "metadata": {},
          "execution_count": 78
        }
      ]
    },
    {
      "cell_type": "code",
      "source": [
        "# tensor_two_d=tf.constant([\n",
        "#     [1,2,3],\n",
        "#     [4,5,6],\n",
        "#     [5,6,],\n",
        "#     [1,]\n",
        "#     ])\n",
        "# print(tensor_two_d) #will give error because it is non rectangular\n"
      ],
      "metadata": {
        "id": "gA4KbUxzeGbD"
      },
      "execution_count": 81,
      "outputs": []
    },
    {
      "cell_type": "code",
      "source": [
        "tensor_two_d=[\n",
        "    [1,2,3],\n",
        "    [4,5,6],\n",
        "    [5,6,],\n",
        "    [1,]\n",
        "    ]\n",
        "tensor_ragged=tf.ragged.constant(tensor_two_d)\n",
        "print(tensor_ragged)"
      ],
      "metadata": {
        "id": "-9TghePDedTU",
        "outputId": "138ecde6-4ef2-444f-d9d1-3772c41fd158",
        "colab": {
          "base_uri": "https://localhost:8080/"
        }
      },
      "execution_count": 86,
      "outputs": [
        {
          "output_type": "stream",
          "name": "stdout",
          "text": [
            "<tf.RaggedTensor [[1, 2, 3], [4, 5, 6], [5, 6], [1]]>\n"
          ]
        }
      ]
    },
    {
      "cell_type": "code",
      "source": [
        "print(tf.RaggedTensor.from_row_lengths(\n",
        "    values=[3, 1, 4, 1, 9, 8, 7, 6],  # values list extended to match row lengths\n",
        "    row_lengths=[4, 0, 3, 1]\n",
        "))"
      ],
      "metadata": {
        "id": "qhS3ymq_fZr1",
        "outputId": "8a76586e-b8c0-4859-9725-fd76469c39a2",
        "colab": {
          "base_uri": "https://localhost:8080/"
        }
      },
      "execution_count": 90,
      "outputs": [
        {
          "output_type": "stream",
          "name": "stdout",
          "text": [
            "<tf.RaggedTensor [[3, 1, 4, 1], [], [9, 8, 7], [6]]>\n"
          ]
        }
      ]
    },
    {
      "cell_type": "code",
      "source": [
        "tensor_sparse=tf.sparse.SparseTensor(\n",
        "    indices=[[0,0],[1,2]],\n",
        "    values=[1,2],\n",
        "    dense_shape=[3,4]\n",
        ")"
      ],
      "metadata": {
        "id": "zEqKUyO6foi_"
      },
      "execution_count": 91,
      "outputs": []
    },
    {
      "cell_type": "code",
      "source": [
        "tf.sparse.to_dense(tensor_sparse)"
      ],
      "metadata": {
        "id": "WDafDywVf5sf",
        "outputId": "d810a394-f7a5-4ace-bccd-540e11cc9d20",
        "colab": {
          "base_uri": "https://localhost:8080/"
        }
      },
      "execution_count": 92,
      "outputs": [
        {
          "output_type": "execute_result",
          "data": {
            "text/plain": [
              "<tf.Tensor: shape=(3, 4), dtype=int32, numpy=\n",
              "array([[1, 0, 0, 0],\n",
              "       [0, 0, 2, 0],\n",
              "       [0, 0, 0, 0]], dtype=int32)>"
            ]
          },
          "metadata": {},
          "execution_count": 92
        }
      ]
    },
    {
      "cell_type": "code",
      "source": [
        "tensor_string=tf.constant([\"hello\",\"Code\",'CV,\"Python'])\n",
        "print(tensor_string)"
      ],
      "metadata": {
        "id": "VCVknfa1gbu9",
        "outputId": "c56f61ed-b1c9-49f2-ec09-a861f8825716",
        "colab": {
          "base_uri": "https://localhost:8080/"
        }
      },
      "execution_count": 93,
      "outputs": [
        {
          "output_type": "stream",
          "name": "stdout",
          "text": [
            "tf.Tensor([b'hello' b'Code' b'CV,\"Python'], shape=(3,), dtype=string)\n"
          ]
        }
      ]
    },
    {
      "cell_type": "code",
      "source": [
        "tf.strings.join(tensor_string,separator=\"-\")"
      ],
      "metadata": {
        "id": "AuuXCY6SgsHq",
        "outputId": "ee5a1ab5-c28b-42bb-8a26-31e2feb0397e",
        "colab": {
          "base_uri": "https://localhost:8080/"
        }
      },
      "execution_count": 94,
      "outputs": [
        {
          "output_type": "execute_result",
          "data": {
            "text/plain": [
              "<tf.Tensor: shape=(), dtype=string, numpy=b'hello-Code-CV,\"Python'>"
            ]
          },
          "metadata": {},
          "execution_count": 94
        }
      ]
    }
  ]
}