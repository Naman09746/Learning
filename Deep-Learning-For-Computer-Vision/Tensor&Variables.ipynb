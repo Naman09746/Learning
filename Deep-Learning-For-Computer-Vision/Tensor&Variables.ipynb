{
  "nbformat": 4,
  "nbformat_minor": 0,
  "metadata": {
    "colab": {
      "provenance": [],
      "authorship_tag": "ABX9TyNVPqUCuPKLaY7HkNvGw+NT",
      "include_colab_link": true
    },
    "kernelspec": {
      "name": "python3",
      "display_name": "Python 3"
    },
    "language_info": {
      "name": "python"
    }
  },
  "cells": [
    {
      "cell_type": "markdown",
      "metadata": {
        "id": "view-in-github",
        "colab_type": "text"
      },
      "source": [
        "<a href=\"https://colab.research.google.com/github/Naman09746/Learning/blob/main/Deep-Learning-For-Computer-Vision/Tensor%26Variables.ipynb\" target=\"_parent\"><img src=\"https://colab.research.google.com/assets/colab-badge.svg\" alt=\"Open In Colab\"/></a>"
      ]
    },
    {
      "cell_type": "code",
      "execution_count": 13,
      "metadata": {
        "id": "HO7NLp1WVjMP"
      },
      "outputs": [],
      "source": [
        "import tensorflow as tf"
      ]
    },
    {
      "cell_type": "code",
      "source": [
        "tensor_zero_d=tf.constant(10)\n",
        "print(tensor_zero_d)"
      ],
      "metadata": {
        "colab": {
          "base_uri": "https://localhost:8080/"
        },
        "id": "p4HK1ETzVrBn",
        "outputId": "19eedacf-72e9-43a5-b893-bef82141423e"
      },
      "execution_count": 14,
      "outputs": [
        {
          "output_type": "stream",
          "name": "stdout",
          "text": [
            "tf.Tensor(10, shape=(), dtype=int32)\n"
          ]
        }
      ]
    },
    {
      "cell_type": "code",
      "source": [
        "tensor_one_d=tf.constant([1,2,3,4])#dtype int\n",
        "print(tensor_one_d)"
      ],
      "metadata": {
        "colab": {
          "base_uri": "https://localhost:8080/"
        },
        "id": "iyfFLmPjV_uI",
        "outputId": "da2adfc5-2217-45e2-a112-0d0b42566c0a"
      },
      "execution_count": 15,
      "outputs": [
        {
          "output_type": "stream",
          "name": "stdout",
          "text": [
            "tf.Tensor([1 2 3 4], shape=(4,), dtype=int32)\n"
          ]
        }
      ]
    },
    {
      "cell_type": "code",
      "source": [
        "# tensor_one_d=tf.constant([1,2,3,4.])#dtype float32\n",
        "# print(tensor_one_d)\n",
        "tensor_one_d_f=tf.constant([1,2,3,4],dtype=tf.float32)#dtype float32\n",
        "print(tensor_one_d)"
      ],
      "metadata": {
        "colab": {
          "base_uri": "https://localhost:8080/"
        },
        "id": "Inqwv_NmWH6k",
        "outputId": "dca15fa2-a102-4adf-d941-39a92114956a"
      },
      "execution_count": 16,
      "outputs": [
        {
          "output_type": "stream",
          "name": "stdout",
          "text": [
            "tf.Tensor([1 2 3 4], shape=(4,), dtype=int32)\n"
          ]
        }
      ]
    },
    {
      "cell_type": "code",
      "source": [
        "#CASTING\n",
        "casted_tensor_one_d= tf.cast(tensor_one_d_f,dtype=tf.int32)\n",
        "print(casted_tensor_one_d)"
      ],
      "metadata": {
        "colab": {
          "base_uri": "https://localhost:8080/"
        },
        "id": "qDbuGQ3qai1a",
        "outputId": "8d9deb80-18d7-46c8-c7f5-e08f58dc2042"
      },
      "execution_count": 17,
      "outputs": [
        {
          "output_type": "stream",
          "name": "stdout",
          "text": [
            "tf.Tensor([1 2 3 4], shape=(4,), dtype=int32)\n"
          ]
        }
      ]
    },
    {
      "cell_type": "code",
      "source": [
        "tensor_two_d=tf.constant([\n",
        "     [1,2,3],\n",
        "     [4,5,6]\n",
        "    ])\n",
        "print(tensor_two_d)"
      ],
      "metadata": {
        "colab": {
          "base_uri": "https://localhost:8080/"
        },
        "id": "jwl7l2-ZWTxY",
        "outputId": "8f94b9ce-8d98-400e-bdd3-411adec4cc33"
      },
      "execution_count": 18,
      "outputs": [
        {
          "output_type": "stream",
          "name": "stdout",
          "text": [
            "tf.Tensor(\n",
            "[[1 2 3]\n",
            " [4 5 6]], shape=(2, 3), dtype=int32)\n"
          ]
        }
      ]
    },
    {
      "cell_type": "code",
      "source": [
        "tensor_three_d=tf.constant([\n",
        "    [\n",
        "        [1,2,3],\n",
        "        [5,6,7]\n",
        "    ],\n",
        "    [\n",
        "        [0,9,8],\n",
        "        [7,6,5]\n",
        "    ]\n",
        "])\n",
        "print(tensor_three_d)"
      ],
      "metadata": {
        "colab": {
          "base_uri": "https://localhost:8080/"
        },
        "id": "zljnfhguW9l9",
        "outputId": "d0eba9a7-aeb2-49fd-e091-3a569fcf5595"
      },
      "execution_count": 19,
      "outputs": [
        {
          "output_type": "stream",
          "name": "stdout",
          "text": [
            "tf.Tensor(\n",
            "[[[1 2 3]\n",
            "  [5 6 7]]\n",
            "\n",
            " [[0 9 8]\n",
            "  [7 6 5]]], shape=(2, 2, 3), dtype=int32)\n"
          ]
        }
      ]
    },
    {
      "cell_type": "code",
      "source": [
        "tensor_four_d=tf.constant([\n",
        "    [\n",
        "        [\n",
        "            [1,2,3,4],\n",
        "            [5,6,7,8]\n",
        "        ],\n",
        "        [\n",
        "            [1,2,3,4],\n",
        "            [5,6,7,8]\n",
        "        ]\n",
        "    ]\n",
        "])\n",
        "print(tensor_four_d)"
      ],
      "metadata": {
        "colab": {
          "base_uri": "https://localhost:8080/"
        },
        "id": "BRtmXOJ1Xh7O",
        "outputId": "8b707e8d-5557-4feb-9116-d1acf2d571f7"
      },
      "execution_count": 20,
      "outputs": [
        {
          "output_type": "stream",
          "name": "stdout",
          "text": [
            "tf.Tensor(\n",
            "[[[[1 2 3 4]\n",
            "   [5 6 7 8]]\n",
            "\n",
            "  [[1 2 3 4]\n",
            "   [5 6 7 8]]]], shape=(1, 2, 2, 4), dtype=int32)\n"
          ]
        }
      ]
    },
    {
      "cell_type": "code",
      "source": [
        "import numpy as np"
      ],
      "metadata": {
        "id": "0Lbozfy3YnRz"
      },
      "execution_count": 21,
      "outputs": []
    },
    {
      "cell_type": "code",
      "source": [
        "np_array= np.array([1,2,3])\n",
        "print(np_array)"
      ],
      "metadata": {
        "colab": {
          "base_uri": "https://localhost:8080/"
        },
        "id": "N_ILbPXibKx2",
        "outputId": "15494998-e50f-4e37-ae95-29657b64997e"
      },
      "execution_count": 22,
      "outputs": [
        {
          "output_type": "stream",
          "name": "stdout",
          "text": [
            "[1 2 3]\n"
          ]
        }
      ]
    },
    {
      "cell_type": "code",
      "source": [
        "converted_tensor=tf.convert_to_tensor(np_array)\n",
        "print(converted_tensor)"
      ],
      "metadata": {
        "colab": {
          "base_uri": "https://localhost:8080/"
        },
        "id": "KuHNxpFMbO3Z",
        "outputId": "b5b2a5cf-3bbd-438d-c194-5846a5ff7297"
      },
      "execution_count": 23,
      "outputs": [
        {
          "output_type": "stream",
          "name": "stdout",
          "text": [
            "tf.Tensor([1 2 3], shape=(3,), dtype=int64)\n"
          ]
        }
      ]
    },
    {
      "cell_type": "code",
      "source": [
        "eye_tensor=tf.eye(\n",
        "    num_rows=3,\n",
        "    num_columns=3,\n",
        "    batch_shape=[2],\n",
        "    dtype=tf.dtypes.float32,\n",
        "    name=None\n",
        ")\n",
        "print(eye_tensor)"
      ],
      "metadata": {
        "colab": {
          "base_uri": "https://localhost:8080/"
        },
        "id": "NgmSqqTLbeLg",
        "outputId": "83bb6a9a-7118-4c08-ae04-6f2d38940ce3"
      },
      "execution_count": 24,
      "outputs": [
        {
          "output_type": "stream",
          "name": "stdout",
          "text": [
            "tf.Tensor(\n",
            "[[[1. 0. 0.]\n",
            "  [0. 1. 0.]\n",
            "  [0. 0. 1.]]\n",
            "\n",
            " [[1. 0. 0.]\n",
            "  [0. 1. 0.]\n",
            "  [0. 0. 1.]]], shape=(2, 3, 3), dtype=float32)\n"
          ]
        }
      ]
    },
    {
      "cell_type": "code",
      "source": [
        "fill_tensor=tf.fill(\n",
        "    [2,3],\n",
        "    9\n",
        ")\n",
        "print(fill_tensor)"
      ],
      "metadata": {
        "colab": {
          "base_uri": "https://localhost:8080/"
        },
        "id": "oBHX8ag6cKSY",
        "outputId": "52cd4f14-ee4b-4ff4-f7c0-f4f4b62e7591"
      },
      "execution_count": 25,
      "outputs": [
        {
          "output_type": "stream",
          "name": "stdout",
          "text": [
            "tf.Tensor(\n",
            "[[9 9 9]\n",
            " [9 9 9]], shape=(2, 3), dtype=int32)\n"
          ]
        }
      ]
    },
    {
      "cell_type": "code",
      "source": [
        "ones_tensor=tf.ones(\n",
        "    [2,3],\n",
        "    dtype=tf.dtypes.float32,\n",
        "    name=None\n",
        ")\n",
        "print(ones_tensor)"
      ],
      "metadata": {
        "colab": {
          "base_uri": "https://localhost:8080/"
        },
        "id": "NogTLyKDMmK8",
        "outputId": "5e2a4f6c-226f-42ad-fd48-95f97e7cc2bd"
      },
      "execution_count": 26,
      "outputs": [
        {
          "output_type": "stream",
          "name": "stdout",
          "text": [
            "tf.Tensor(\n",
            "[[1. 1. 1.]\n",
            " [1. 1. 1.]], shape=(2, 3), dtype=float32)\n"
          ]
        }
      ]
    },
    {
      "cell_type": "code",
      "source": [
        "ones_like_tensor=tf.ones_like(\n",
        "    eye_tensor\n",
        ")\n",
        "print(ones_like_tensor)"
      ],
      "metadata": {
        "colab": {
          "base_uri": "https://localhost:8080/"
        },
        "id": "vZZdPKoZNbIw",
        "outputId": "4f801165-9623-42cd-d8e1-81df04e3fc9f"
      },
      "execution_count": 27,
      "outputs": [
        {
          "output_type": "stream",
          "name": "stdout",
          "text": [
            "tf.Tensor(\n",
            "[[[1. 1. 1.]\n",
            "  [1. 1. 1.]\n",
            "  [1. 1. 1.]]\n",
            "\n",
            " [[1. 1. 1.]\n",
            "  [1. 1. 1.]\n",
            "  [1. 1. 1.]]], shape=(2, 3, 3), dtype=float32)\n"
          ]
        }
      ]
    },
    {
      "cell_type": "code",
      "source": [
        "zeros_tensor=tf.zeros(\n",
        "    [2,3],\n",
        "    dtype=tf.dtypes.float32,\n",
        "    name=None\n",
        ")\n",
        "print(zeros_tensor)"
      ],
      "metadata": {
        "colab": {
          "base_uri": "https://localhost:8080/"
        },
        "id": "cmHHK-JjOcI3",
        "outputId": "b4bf13e2-d939-4591-a580-664914bcd051"
      },
      "execution_count": 28,
      "outputs": [
        {
          "output_type": "stream",
          "name": "stdout",
          "text": [
            "tf.Tensor(\n",
            "[[0. 0. 0.]\n",
            " [0. 0. 0.]], shape=(2, 3), dtype=float32)\n"
          ]
        }
      ]
    },
    {
      "cell_type": "code",
      "source": [
        "zeros_like_tensor=tf.zeros_like(\n",
        "    eye_tensor\n",
        ")\n",
        "print(zeros_like_tensor)"
      ],
      "metadata": {
        "colab": {
          "base_uri": "https://localhost:8080/"
        },
        "id": "hzFWF1JmOrgp",
        "outputId": "5b4a183f-aa99-4005-b4a0-f904da780706"
      },
      "execution_count": 29,
      "outputs": [
        {
          "output_type": "stream",
          "name": "stdout",
          "text": [
            "tf.Tensor(\n",
            "[[[0. 0. 0.]\n",
            "  [0. 0. 0.]\n",
            "  [0. 0. 0.]]\n",
            "\n",
            " [[0. 0. 0.]\n",
            "  [0. 0. 0.]\n",
            "  [0. 0. 0.]]], shape=(2, 3, 3), dtype=float32)\n"
          ]
        }
      ]
    },
    {
      "cell_type": "code",
      "source": [
        "print(tensor_three_d.shape)"
      ],
      "metadata": {
        "colab": {
          "base_uri": "https://localhost:8080/"
        },
        "id": "LR9yuhm1Owk3",
        "outputId": "4bd6c148-b3da-47b0-cb84-0c13e932bd54"
      },
      "execution_count": 30,
      "outputs": [
        {
          "output_type": "stream",
          "name": "stdout",
          "text": [
            "(2, 2, 3)\n"
          ]
        }
      ]
    },
    {
      "cell_type": "code",
      "source": [
        "tf.rank(tensor_three_d)"
      ],
      "metadata": {
        "colab": {
          "base_uri": "https://localhost:8080/"
        },
        "id": "rm_2ZauzO3Kg",
        "outputId": "0a7fcc04-36b8-4964-e5c6-baa0f8e74d41"
      },
      "execution_count": 31,
      "outputs": [
        {
          "output_type": "execute_result",
          "data": {
            "text/plain": [
              "<tf.Tensor: shape=(), dtype=int32, numpy=3>"
            ]
          },
          "metadata": {},
          "execution_count": 31
        }
      ]
    },
    {
      "cell_type": "code",
      "source": [
        "tf.size(tensor_three_d)"
      ],
      "metadata": {
        "colab": {
          "base_uri": "https://localhost:8080/"
        },
        "id": "WIoLnSi0PE1N",
        "outputId": "a409fc15-c107-4d04-91fb-40b8d3adf823"
      },
      "execution_count": 32,
      "outputs": [
        {
          "output_type": "execute_result",
          "data": {
            "text/plain": [
              "<tf.Tensor: shape=(), dtype=int32, numpy=12>"
            ]
          },
          "metadata": {},
          "execution_count": 32
        }
      ]
    },
    {
      "cell_type": "code",
      "source": [
        "tf.size(tensor_three_d,out_type=tf.float32)"
      ],
      "metadata": {
        "colab": {
          "base_uri": "https://localhost:8080/"
        },
        "id": "8iIQY-tKPlPK",
        "outputId": "ee373a8e-0712-4176-a6af-8d2e11231289"
      },
      "execution_count": 33,
      "outputs": [
        {
          "output_type": "execute_result",
          "data": {
            "text/plain": [
              "<tf.Tensor: shape=(), dtype=float32, numpy=12.0>"
            ]
          },
          "metadata": {},
          "execution_count": 33
        }
      ]
    },
    {
      "cell_type": "code",
      "source": [
        "random_tensor= tf.random.normal(\n",
        "    [3,2],\n",
        "    mean=100.0,\n",
        "    stddev=1.0,\n",
        "    dtype=tf.dtypes.float32,\n",
        "    seed=None,\n",
        "    name=None\n",
        ")\n",
        "print(random_tensor)"
      ],
      "metadata": {
        "colab": {
          "base_uri": "https://localhost:8080/"
        },
        "id": "1FQCa61vR-94",
        "outputId": "9287d8f5-04de-4212-e5bc-6c8b18cc7c09"
      },
      "execution_count": 36,
      "outputs": [
        {
          "output_type": "stream",
          "name": "stdout",
          "text": [
            "tf.Tensor(\n",
            "[[ 99.180695 100.47317 ]\n",
            " [ 99.61262   99.694046]\n",
            " [100.90184   99.672356]], shape=(3, 2), dtype=float32)\n"
          ]
        }
      ]
    },
    {
      "cell_type": "code",
      "source": [
        "uniform_tensor= tf.random.uniform(\n",
        "    [3,2],\n",
        "    minval=0,\n",
        "    maxval=None,\n",
        "    dtype=tf.dtypes.float32,\n",
        "    seed=None,\n",
        "    name=None\n",
        ")\n",
        "print(uniform_tensor)"
      ],
      "metadata": {
        "colab": {
          "base_uri": "https://localhost:8080/"
        },
        "id": "b1f53_r6SL3q",
        "outputId": "150529aa-4b01-4257-e3bf-b63489eae0ef"
      },
      "execution_count": 40,
      "outputs": [
        {
          "output_type": "stream",
          "name": "stdout",
          "text": [
            "tf.Tensor(\n",
            "[[0.2346083  0.0907079 ]\n",
            " [0.5718461  0.58348167]\n",
            " [0.24136603 0.8364717 ]], shape=(3, 2), dtype=float32)\n"
          ]
        }
      ]
    },
    {
      "cell_type": "code",
      "source": [
        "tf.random.set_seed(5)\n",
        "print(tf.random.uniform([1],seed=1))\n",
        "print(tf.random.uniform([1],seed=1))\n",
        "print(tf.random.uniform([1],seed=1))"
      ],
      "metadata": {
        "colab": {
          "base_uri": "https://localhost:8080/"
        },
        "id": "-1sMKGrnTnJ3",
        "outputId": "2f040684-1684-4bfc-9cad-fb15c3304e2f"
      },
      "execution_count": 41,
      "outputs": [
        {
          "output_type": "stream",
          "name": "stdout",
          "text": [
            "tf.Tensor([0.3875184], shape=(1,), dtype=float32)\n",
            "tf.Tensor([0.98592305], shape=(1,), dtype=float32)\n",
            "tf.Tensor([0.9647], shape=(1,), dtype=float32)\n"
          ]
        }
      ]
    },
    {
      "cell_type": "code",
      "source": [],
      "metadata": {
        "id": "9YB45pY9T54j"
      },
      "execution_count": null,
      "outputs": []
    }
  ]
}